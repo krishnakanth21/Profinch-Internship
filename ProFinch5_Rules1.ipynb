{
 "cells": [
  {
   "cell_type": "markdown",
   "metadata": {},
   "source": [
    "# Defining Rules model and text file reading function"
   ]
  },
  {
   "cell_type": "code",
   "execution_count": 8,
   "metadata": {},
   "outputs": [],
   "source": [
    "import pyodbc\n",
    "import pandas as pd\n",
    "import os"
   ]
  },
  {
   "cell_type": "code",
   "execution_count": 2,
   "metadata": {},
   "outputs": [],
   "source": [
    "conx = pyodbc.connect('DRIVER={SQL Server}; SERVER=DESKTOP-V8F09K2\\KRISHNASQL; Database=kk; UID=sa; PWD=pokemon;')"
   ]
  },
  {
   "cell_type": "code",
   "execution_count": 9,
   "metadata": {},
   "outputs": [],
   "source": [
    "os.chdir('C:\\\\Users\\\\hp\\\\Desktop\\\\ProFinch')"
   ]
  },
  {
   "cell_type": "code",
   "execution_count": 50,
   "metadata": {},
   "outputs": [],
   "source": [
    "df=pd.read_excel('CustomerInfo5.xlsx')"
   ]
  },
  {
   "cell_type": "code",
   "execution_count": 17,
   "metadata": {},
   "outputs": [],
   "source": [
    "df=df.drop(['Unnamed: 0'],axis=1)"
   ]
  },
  {
   "cell_type": "code",
   "execution_count": 51,
   "metadata": {
    "collapsed": true
   },
   "outputs": [
    {
     "data": {
      "text/plain": [
       "['Unnamed: 0',\n",
       " 'Unnamed: 0.1',\n",
       " 'Unnamed: 0.1.1',\n",
       " 'first_name',\n",
       " 'last_name',\n",
       " 'gender',\n",
       " 'age',\n",
       " 'country',\n",
       " 'state',\n",
       " 'postal code',\n",
       " 'social security number',\n",
       " 'company',\n",
       " 'job title',\n",
       " 'salary',\n",
       " 'card number',\n",
       " 'card type',\n",
       " 'money_withdrawn_amount',\n",
       " 'money_withdrawn_reason',\n",
       " 'money_withdrawn_location',\n",
       " 'Suspicious Activity',\n",
       " 'No.of Transactions',\n",
       " 'money_withdrawn_date',\n",
       " 'money_withdrawn_date_only',\n",
       " 'amount_transferred',\n",
       " 'sender_id',\n",
       " 'receiver_id',\n",
       " 'Time_only']"
      ]
     },
     "execution_count": 51,
     "metadata": {},
     "output_type": "execute_result"
    }
   ],
   "source": [
    "df.columns.tolist()"
   ]
  },
  {
   "cell_type": "code",
   "execution_count": 26,
   "metadata": {},
   "outputs": [],
   "source": [
    "df['No.of Transactions']=1\n",
    "df['Suspicious Activity']=False"
   ]
  },
  {
   "cell_type": "code",
   "execution_count": 45,
   "metadata": {},
   "outputs": [],
   "source": [
    "df1.to_excel(\"CustomerInfo5.xlsx\") "
   ]
  },
  {
   "cell_type": "code",
   "execution_count": null,
   "metadata": {},
   "outputs": [],
   "source": []
  },
  {
   "cell_type": "code",
   "execution_count": 59,
   "metadata": {},
   "outputs": [],
   "source": [
    "# query = \"SELECT first_name,last_name,gender from output where No.of Transactions=5\"\n",
    "query=\"SELECT [first_name],[last_name],[social security number] FROM [kk].[dbo].[output3] WHERE ([state]!=[money_withdrawn_location])\"\n",
    "# query=\"select last_name from output\"\n",
    "# query=\"select * from output\"\n",
    "cursor = conx.cursor();\n",
    "cursor.execute(query);\n",
    "data = cursor.fetchall()"
   ]
  },
  {
   "cell_type": "code",
   "execution_count": 60,
   "metadata": {},
   "outputs": [
    {
     "data": {
      "text/plain": [
       "197"
      ]
     },
     "execution_count": 60,
     "metadata": {},
     "output_type": "execute_result"
    }
   ],
   "source": [
    "len(data)"
   ]
  },
  {
   "cell_type": "code",
   "execution_count": 23,
   "metadata": {},
   "outputs": [
    {
     "data": {
      "text/plain": [
       "[('Bailie', 'Keppel', '667-83-6790')]"
      ]
     },
     "execution_count": 23,
     "metadata": {},
     "output_type": "execute_result"
    }
   ],
   "source": [
    "data[:1]"
   ]
  },
  {
   "cell_type": "code",
   "execution_count": 27,
   "metadata": {},
   "outputs": [],
   "source": [
    "q = pd.read_sql_query(query,conx)"
   ]
  },
  {
   "cell_type": "code",
   "execution_count": 28,
   "metadata": {},
   "outputs": [],
   "source": [
    "# q"
   ]
  },
  {
   "cell_type": "code",
   "execution_count": 29,
   "metadata": {},
   "outputs": [],
   "source": [
    "df = pd.DataFrame(q, columns=['first_name','last_name','social security number'])\n",
    "# df=pd.DataFrame(q,columns=['No#of Transactions'])"
   ]
  },
  {
   "cell_type": "code",
   "execution_count": 30,
   "metadata": {},
   "outputs": [
    {
     "data": {
      "text/html": [
       "<div>\n",
       "<style scoped>\n",
       "    .dataframe tbody tr th:only-of-type {\n",
       "        vertical-align: middle;\n",
       "    }\n",
       "\n",
       "    .dataframe tbody tr th {\n",
       "        vertical-align: top;\n",
       "    }\n",
       "\n",
       "    .dataframe thead th {\n",
       "        text-align: right;\n",
       "    }\n",
       "</style>\n",
       "<table border=\"1\" class=\"dataframe\">\n",
       "  <thead>\n",
       "    <tr style=\"text-align: right;\">\n",
       "      <th></th>\n",
       "      <th>first_name</th>\n",
       "      <th>last_name</th>\n",
       "      <th>social security number</th>\n",
       "    </tr>\n",
       "  </thead>\n",
       "  <tbody>\n",
       "    <tr>\n",
       "      <th>0</th>\n",
       "      <td>Bailie</td>\n",
       "      <td>Keppel</td>\n",
       "      <td>667-83-6790</td>\n",
       "    </tr>\n",
       "    <tr>\n",
       "      <th>1</th>\n",
       "      <td>Rayna</td>\n",
       "      <td>Josephs</td>\n",
       "      <td>248-61-5179</td>\n",
       "    </tr>\n",
       "    <tr>\n",
       "      <th>2</th>\n",
       "      <td>Cull</td>\n",
       "      <td>Tabour</td>\n",
       "      <td>205-43-7993</td>\n",
       "    </tr>\n",
       "    <tr>\n",
       "      <th>3</th>\n",
       "      <td>Noelle</td>\n",
       "      <td>Sterrick</td>\n",
       "      <td>294-48-6337</td>\n",
       "    </tr>\n",
       "    <tr>\n",
       "      <th>4</th>\n",
       "      <td>Maximo</td>\n",
       "      <td>Switland</td>\n",
       "      <td>171-39-7066</td>\n",
       "    </tr>\n",
       "    <tr>\n",
       "      <th>...</th>\n",
       "      <td>...</td>\n",
       "      <td>...</td>\n",
       "      <td>...</td>\n",
       "    </tr>\n",
       "    <tr>\n",
       "      <th>334</th>\n",
       "      <td>Bax</td>\n",
       "      <td>Checkley</td>\n",
       "      <td>288-06-7434</td>\n",
       "    </tr>\n",
       "    <tr>\n",
       "      <th>335</th>\n",
       "      <td>Shadow</td>\n",
       "      <td>Stife</td>\n",
       "      <td>886-60-7236</td>\n",
       "    </tr>\n",
       "    <tr>\n",
       "      <th>336</th>\n",
       "      <td>Angela</td>\n",
       "      <td>Aiken</td>\n",
       "      <td>860-32-7461</td>\n",
       "    </tr>\n",
       "    <tr>\n",
       "      <th>337</th>\n",
       "      <td>Verena</td>\n",
       "      <td>Grimsdyke</td>\n",
       "      <td>736-91-4901</td>\n",
       "    </tr>\n",
       "    <tr>\n",
       "      <th>338</th>\n",
       "      <td>Casandra</td>\n",
       "      <td>Old</td>\n",
       "      <td>773-97-5135</td>\n",
       "    </tr>\n",
       "  </tbody>\n",
       "</table>\n",
       "<p>339 rows × 3 columns</p>\n",
       "</div>"
      ],
      "text/plain": [
       "    first_name  last_name social security number\n",
       "0       Bailie     Keppel            667-83-6790\n",
       "1        Rayna    Josephs            248-61-5179\n",
       "2         Cull     Tabour            205-43-7993\n",
       "3       Noelle   Sterrick            294-48-6337\n",
       "4       Maximo   Switland            171-39-7066\n",
       "..         ...        ...                    ...\n",
       "334        Bax   Checkley            288-06-7434\n",
       "335     Shadow      Stife            886-60-7236\n",
       "336     Angela      Aiken            860-32-7461\n",
       "337     Verena  Grimsdyke            736-91-4901\n",
       "338   Casandra        Old            773-97-5135\n",
       "\n",
       "[339 rows x 3 columns]"
      ]
     },
     "execution_count": 30,
     "metadata": {},
     "output_type": "execute_result"
    }
   ],
   "source": [
    "df"
   ]
  },
  {
   "cell_type": "code",
   "execution_count": null,
   "metadata": {},
   "outputs": [],
   "source": []
  },
  {
   "cell_type": "code",
   "execution_count": null,
   "metadata": {},
   "outputs": [],
   "source": []
  },
  {
   "cell_type": "markdown",
   "metadata": {},
   "source": [
    "# Changing Suspicious Activity in Original File"
   ]
  },
  {
   "cell_type": "code",
   "execution_count": 42,
   "metadata": {},
   "outputs": [],
   "source": [
    "import os\n",
    "os.chdir('C:\\\\Users\\\\hp\\\\Desktop\\\\ProFinch')\n",
    "df1=pd.DataFrame()\n",
    "df1=pd.read_excel(\"CustomerInfo5.xlsx\")"
   ]
  },
  {
   "cell_type": "code",
   "execution_count": 43,
   "metadata": {},
   "outputs": [],
   "source": [
    "\n",
    "for i in range(len(df2)):\n",
    "    for j in range(len(df1)):\n",
    "        if(df2['social security number'][i]==df1['social security number'][j]):\n",
    "            df1.loc[j,'Suspicious Activity']=True"
   ]
  },
  {
   "cell_type": "code",
   "execution_count": 38,
   "metadata": {},
   "outputs": [
    {
     "data": {
      "text/plain": [
       "array([False,  True])"
      ]
     },
     "execution_count": 38,
     "metadata": {},
     "output_type": "execute_result"
    }
   ],
   "source": [
    "df1['Suspicious Activity'].unique()"
   ]
  },
  {
   "cell_type": "code",
   "execution_count": 44,
   "metadata": {},
   "outputs": [
    {
     "name": "stdout",
     "output_type": "stream",
     "text": [
      "346\n"
     ]
    }
   ],
   "source": [
    "ct=0\n",
    "for i in range(1000):\n",
    "     if(df1['Suspicious Activity'][i]==True):\n",
    "            ct=ct+1\n",
    "print(ct)        "
   ]
  },
  {
   "cell_type": "code",
   "execution_count": 37,
   "metadata": {},
   "outputs": [
    {
     "data": {
      "text/plain": [
       "'C:\\\\Users\\\\hp\\\\Desktop\\\\ProFinch'"
      ]
     },
     "execution_count": 37,
     "metadata": {},
     "output_type": "execute_result"
    }
   ],
   "source": [
    "pwd"
   ]
  },
  {
   "cell_type": "code",
   "execution_count": 39,
   "metadata": {},
   "outputs": [
    {
     "data": {
      "text/plain": [
       "Index(['Unnamed: 0', 'first_name', 'last_name', 'gender', 'age', 'country',\n",
       "       'state', 'postal code', 'social security number', 'company',\n",
       "       'job title', 'salary', 'card number', 'card type',\n",
       "       'money_withdrawn_amount', 'money_withdrawn_reason',\n",
       "       'money_withdrawn_location', 'money_withdrawn_time', 'Valid Transaction',\n",
       "       'Suspicious Activity', 'No.of Transactions'],\n",
       "      dtype='object')"
      ]
     },
     "execution_count": 39,
     "metadata": {},
     "output_type": "execute_result"
    }
   ],
   "source": [
    "df1.columns"
   ]
  },
  {
   "cell_type": "code",
   "execution_count": 38,
   "metadata": {},
   "outputs": [],
   "source": [
    "df1.to_excel(\"CustomerInfo3.xlsx\")  "
   ]
  },
  {
   "cell_type": "code",
   "execution_count": null,
   "metadata": {},
   "outputs": [],
   "source": [
    "# WRITE IT BACK INTO EXCEL!!"
   ]
  },
  {
   "cell_type": "code",
   "execution_count": 6,
   "metadata": {},
   "outputs": [],
   "source": [
    "conx.close()"
   ]
  },
  {
   "cell_type": "markdown",
   "metadata": {},
   "source": [
    "# File Reading"
   ]
  },
  {
   "cell_type": "code",
   "execution_count": 3,
   "metadata": {},
   "outputs": [
    {
     "data": {
      "text/plain": [
       "'C:\\\\Users\\\\hp\\\\ProFinch'"
      ]
     },
     "execution_count": 3,
     "metadata": {},
     "output_type": "execute_result"
    }
   ],
   "source": [
    "pwd"
   ]
  },
  {
   "cell_type": "code",
   "execution_count": 47,
   "metadata": {},
   "outputs": [
    {
     "name": "stdout",
     "output_type": "stream",
     "text": [
      "Line0: select first_name,last_name,MIN(gender) AS gender,MIN(age) AS age,MIN(country) AS country,MIN(state) AS state,MIN([postal code]) AS [postal code],MIN([social security number]) AS [social security number],MIN([company]) AS [company],MIN([job title]) AS [job title],MIN([salary]) AS [salary],MIN([card number]) AS [card number],MIN([card type]) AS [card type],SUM(money_withdrawn_amount) AS money_withdrawn_amount,MIN([money_withdrawn_reason]) AS [money_withdrawn_reason],MIN([money_withdrawn_location]) AS [money_withdrawn_location],MIN([Suspicious Activity]+0) AS [Suspicious Activity],MIN([No.of Transactions]) AS [No.of Transactions],MIN([money_withdrawn_date]) AS [money_withdrawn_date],MIN([money_withdrawn_date_only]) AS [money_withdrawn_date_only],MIN([amount_transferred]) AS [amount_transferred],MIN([sender_id]) AS [sender_id],MIN([receiver_id]) AS [receiver_id],MIN([Time_only]) AS [Time_only] FROM output3 GROUP BY first_name,last_name,money_withdrawn_date_only\n",
      "\n",
      "Line1: select * from output3 where (([Time_only]>'01:00:01' and [Time_only]<'04:00:59')) or ([state]!=[money_withdrawn_location]) or (([money_withdrawn_amount])>=([salary]/2))\n",
      "\n",
      "Line2: SELECT [first_name],[last_name],[social security number] FROM [kk].[dbo].[output3] WHERE [Total amount transferred]>=([salary])\n",
      "\n"
     ]
    }
   ],
   "source": [
    "file1 = open('Rules.txt', 'r') \n",
    "Lines = file1.readlines() \n",
    "List=[]  \n",
    "count = 0\n",
    "# Strips the newline character \n",
    "for line in Lines: \n",
    "#     print(line.strip()) \n",
    "    print(\"Line{}: {}\".format(count, line.strip()))\n",
    "    print()\n",
    "    count=count+1\n",
    "    List.append(line.strip())"
   ]
  },
  {
   "cell_type": "code",
   "execution_count": 32,
   "metadata": {},
   "outputs": [
    {
     "data": {
      "text/plain": [
       "'SELECT [first_name],[last_name],[social security number] FROM [kk].[dbo].[output3] WHERE ([money_withdrawn_amount])>=([salary]/2)'"
      ]
     },
     "execution_count": 32,
     "metadata": {},
     "output_type": "execute_result"
    }
   ],
   "source": [
    "List[1]"
   ]
  },
  {
   "cell_type": "markdown",
   "metadata": {},
   "source": [
    "# Function SQL"
   ]
  },
  {
   "cell_type": "code",
   "execution_count": 10,
   "metadata": {},
   "outputs": [],
   "source": [
    "df2=pd.DataFrame()"
   ]
  },
  {
   "cell_type": "code",
   "execution_count": 33,
   "metadata": {},
   "outputs": [],
   "source": [
    "def runsql(x):\n",
    "    global data,df2\n",
    "    conx = pyodbc.connect('DRIVER={SQL Server}; SERVER=DESKTOP-V8F09K2\\KRISHNASQL; Database=kk; UID=sa; PWD=pokemon;')\n",
    "    query=x\n",
    "    cursor = conx.cursor();\n",
    "    cursor.execute(query);\n",
    "    data = cursor.fetchall()\n",
    "    q = pd.read_sql_query(query,conx)\n",
    "    df2 = pd.DataFrame(q, columns=['first_name','last_name','social security number'])\n",
    "    conx.close()\n",
    "    "
   ]
  },
  {
   "cell_type": "code",
   "execution_count": 12,
   "metadata": {
    "collapsed": true
   },
   "outputs": [
    {
     "name": "stdout",
     "output_type": "stream",
     "text": [
      "  first_name last_name social security number\n",
      "0     Bailie    Keppel            667-83-6790\n",
      "1      Rayna   Josephs            248-61-5179\n",
      "2       Cull    Tabour            205-43-7993\n",
      "3     Noelle  Sterrick            294-48-6337\n",
      "4     Maximo  Switland            171-39-7066\n",
      "  first_name  last_name  social security number\n",
      "0    Barrett        NaN                     NaN\n",
      "1     Correy        NaN                     NaN\n",
      "2      Robbi        NaN                     NaN\n",
      "3      Welby        NaN                     NaN\n",
      "4     Bailie        NaN                     NaN\n"
     ]
    }
   ],
   "source": [
    "for i in range(len(List)):\n",
    "    runsql(List[i])\n",
    "    print(df2.head())"
   ]
  },
  {
   "cell_type": "code",
   "execution_count": 191,
   "metadata": {
    "collapsed": true
   },
   "outputs": [
    {
     "data": {
      "text/html": [
       "<div>\n",
       "<style scoped>\n",
       "    .dataframe tbody tr th:only-of-type {\n",
       "        vertical-align: middle;\n",
       "    }\n",
       "\n",
       "    .dataframe tbody tr th {\n",
       "        vertical-align: top;\n",
       "    }\n",
       "\n",
       "    .dataframe thead th {\n",
       "        text-align: right;\n",
       "    }\n",
       "</style>\n",
       "<table border=\"1\" class=\"dataframe\">\n",
       "  <thead>\n",
       "    <tr style=\"text-align: right;\">\n",
       "      <th></th>\n",
       "      <th>first_name</th>\n",
       "      <th>last_name</th>\n",
       "      <th>social security number</th>\n",
       "    </tr>\n",
       "  </thead>\n",
       "  <tbody>\n",
       "    <tr>\n",
       "      <th>0</th>\n",
       "      <td>Bailie</td>\n",
       "      <td>Keppel</td>\n",
       "      <td>667-83-6790</td>\n",
       "    </tr>\n",
       "    <tr>\n",
       "      <th>1</th>\n",
       "      <td>Rayna</td>\n",
       "      <td>Josephs</td>\n",
       "      <td>248-61-5179</td>\n",
       "    </tr>\n",
       "    <tr>\n",
       "      <th>2</th>\n",
       "      <td>Cull</td>\n",
       "      <td>Tabour</td>\n",
       "      <td>205-43-7993</td>\n",
       "    </tr>\n",
       "    <tr>\n",
       "      <th>3</th>\n",
       "      <td>Noelle</td>\n",
       "      <td>Sterrick</td>\n",
       "      <td>294-48-6337</td>\n",
       "    </tr>\n",
       "    <tr>\n",
       "      <th>4</th>\n",
       "      <td>Maximo</td>\n",
       "      <td>Switland</td>\n",
       "      <td>171-39-7066</td>\n",
       "    </tr>\n",
       "    <tr>\n",
       "      <th>5</th>\n",
       "      <td>Anselm</td>\n",
       "      <td>Tonner</td>\n",
       "      <td>255-31-6815</td>\n",
       "    </tr>\n",
       "    <tr>\n",
       "      <th>6</th>\n",
       "      <td>Vaughan</td>\n",
       "      <td>Bowditch</td>\n",
       "      <td>120-37-7977</td>\n",
       "    </tr>\n",
       "    <tr>\n",
       "      <th>7</th>\n",
       "      <td>Nettle</td>\n",
       "      <td>Sciacovelli</td>\n",
       "      <td>604-05-4954</td>\n",
       "    </tr>\n",
       "    <tr>\n",
       "      <th>8</th>\n",
       "      <td>Yasmin</td>\n",
       "      <td>Morten</td>\n",
       "      <td>593-58-1275</td>\n",
       "    </tr>\n",
       "    <tr>\n",
       "      <th>9</th>\n",
       "      <td>Byrom</td>\n",
       "      <td>Polly</td>\n",
       "      <td>246-37-2145</td>\n",
       "    </tr>\n",
       "    <tr>\n",
       "      <th>10</th>\n",
       "      <td>Josi</td>\n",
       "      <td>Helstrip</td>\n",
       "      <td>187-44-4574</td>\n",
       "    </tr>\n",
       "    <tr>\n",
       "      <th>11</th>\n",
       "      <td>Raleigh</td>\n",
       "      <td>Wakley</td>\n",
       "      <td>284-42-5513</td>\n",
       "    </tr>\n",
       "    <tr>\n",
       "      <th>12</th>\n",
       "      <td>Louis</td>\n",
       "      <td>Wynrahame</td>\n",
       "      <td>850-70-7580</td>\n",
       "    </tr>\n",
       "    <tr>\n",
       "      <th>13</th>\n",
       "      <td>Harold</td>\n",
       "      <td>Warlawe</td>\n",
       "      <td>131-53-1300</td>\n",
       "    </tr>\n",
       "    <tr>\n",
       "      <th>14</th>\n",
       "      <td>Brandon</td>\n",
       "      <td>Cheetham</td>\n",
       "      <td>675-75-3385</td>\n",
       "    </tr>\n",
       "    <tr>\n",
       "      <th>15</th>\n",
       "      <td>Jody</td>\n",
       "      <td>Gallager</td>\n",
       "      <td>343-53-5415</td>\n",
       "    </tr>\n",
       "    <tr>\n",
       "      <th>16</th>\n",
       "      <td>Raynell</td>\n",
       "      <td>Yendall</td>\n",
       "      <td>554-75-9854</td>\n",
       "    </tr>\n",
       "    <tr>\n",
       "      <th>17</th>\n",
       "      <td>Noah</td>\n",
       "      <td>Burrows</td>\n",
       "      <td>728-37-5346</td>\n",
       "    </tr>\n",
       "    <tr>\n",
       "      <th>18</th>\n",
       "      <td>Tanny</td>\n",
       "      <td>Seeler</td>\n",
       "      <td>324-98-4373</td>\n",
       "    </tr>\n",
       "    <tr>\n",
       "      <th>19</th>\n",
       "      <td>Odelinda</td>\n",
       "      <td>Wadforth</td>\n",
       "      <td>378-27-8043</td>\n",
       "    </tr>\n",
       "    <tr>\n",
       "      <th>20</th>\n",
       "      <td>Calv</td>\n",
       "      <td>Enos</td>\n",
       "      <td>229-38-0946</td>\n",
       "    </tr>\n",
       "    <tr>\n",
       "      <th>21</th>\n",
       "      <td>Jemimah</td>\n",
       "      <td>Hanburry</td>\n",
       "      <td>630-52-8107</td>\n",
       "    </tr>\n",
       "    <tr>\n",
       "      <th>22</th>\n",
       "      <td>Janine</td>\n",
       "      <td>Tiernan</td>\n",
       "      <td>195-93-7322</td>\n",
       "    </tr>\n",
       "    <tr>\n",
       "      <th>23</th>\n",
       "      <td>Warden</td>\n",
       "      <td>Searson</td>\n",
       "      <td>319-02-5426</td>\n",
       "    </tr>\n",
       "    <tr>\n",
       "      <th>24</th>\n",
       "      <td>Yancey</td>\n",
       "      <td>Seignior</td>\n",
       "      <td>826-92-3689</td>\n",
       "    </tr>\n",
       "    <tr>\n",
       "      <th>25</th>\n",
       "      <td>Bartholemy</td>\n",
       "      <td>Sayer</td>\n",
       "      <td>610-78-2934</td>\n",
       "    </tr>\n",
       "    <tr>\n",
       "      <th>26</th>\n",
       "      <td>La verne</td>\n",
       "      <td>Snoxill</td>\n",
       "      <td>887-37-5808</td>\n",
       "    </tr>\n",
       "    <tr>\n",
       "      <th>27</th>\n",
       "      <td>Hans</td>\n",
       "      <td>Staite</td>\n",
       "      <td>772-20-8626</td>\n",
       "    </tr>\n",
       "    <tr>\n",
       "      <th>28</th>\n",
       "      <td>Brandon</td>\n",
       "      <td>Steptoe</td>\n",
       "      <td>326-85-6031</td>\n",
       "    </tr>\n",
       "    <tr>\n",
       "      <th>29</th>\n",
       "      <td>Hailey</td>\n",
       "      <td>Tomasi</td>\n",
       "      <td>211-04-5913</td>\n",
       "    </tr>\n",
       "    <tr>\n",
       "      <th>...</th>\n",
       "      <td>...</td>\n",
       "      <td>...</td>\n",
       "      <td>...</td>\n",
       "    </tr>\n",
       "    <tr>\n",
       "      <th>309</th>\n",
       "      <td>Darcy</td>\n",
       "      <td>Erswell</td>\n",
       "      <td>736-89-9163</td>\n",
       "    </tr>\n",
       "    <tr>\n",
       "      <th>310</th>\n",
       "      <td>Jess</td>\n",
       "      <td>Blance</td>\n",
       "      <td>708-60-5616</td>\n",
       "    </tr>\n",
       "    <tr>\n",
       "      <th>311</th>\n",
       "      <td>Bernelle</td>\n",
       "      <td>Witling</td>\n",
       "      <td>374-19-4189</td>\n",
       "    </tr>\n",
       "    <tr>\n",
       "      <th>312</th>\n",
       "      <td>Laurie</td>\n",
       "      <td>Dobel</td>\n",
       "      <td>867-53-9459</td>\n",
       "    </tr>\n",
       "    <tr>\n",
       "      <th>313</th>\n",
       "      <td>Kelsey</td>\n",
       "      <td>Otteridge</td>\n",
       "      <td>384-07-7629</td>\n",
       "    </tr>\n",
       "    <tr>\n",
       "      <th>314</th>\n",
       "      <td>Barny</td>\n",
       "      <td>Goose</td>\n",
       "      <td>709-35-6536</td>\n",
       "    </tr>\n",
       "    <tr>\n",
       "      <th>315</th>\n",
       "      <td>Faber</td>\n",
       "      <td>Antonov</td>\n",
       "      <td>393-79-7094</td>\n",
       "    </tr>\n",
       "    <tr>\n",
       "      <th>316</th>\n",
       "      <td>Correna</td>\n",
       "      <td>Dunbobbin</td>\n",
       "      <td>311-90-7225</td>\n",
       "    </tr>\n",
       "    <tr>\n",
       "      <th>317</th>\n",
       "      <td>Ina</td>\n",
       "      <td>Rickell</td>\n",
       "      <td>805-96-3153</td>\n",
       "    </tr>\n",
       "    <tr>\n",
       "      <th>318</th>\n",
       "      <td>Genia</td>\n",
       "      <td>Haglinton</td>\n",
       "      <td>885-93-3614</td>\n",
       "    </tr>\n",
       "    <tr>\n",
       "      <th>319</th>\n",
       "      <td>Casar</td>\n",
       "      <td>Haibel</td>\n",
       "      <td>877-88-5461</td>\n",
       "    </tr>\n",
       "    <tr>\n",
       "      <th>320</th>\n",
       "      <td>Aloisia</td>\n",
       "      <td>Pancast</td>\n",
       "      <td>152-69-8463</td>\n",
       "    </tr>\n",
       "    <tr>\n",
       "      <th>321</th>\n",
       "      <td>Cherice</td>\n",
       "      <td>Golden of Ireland</td>\n",
       "      <td>705-49-5043</td>\n",
       "    </tr>\n",
       "    <tr>\n",
       "      <th>322</th>\n",
       "      <td>Delmer</td>\n",
       "      <td>Gambie</td>\n",
       "      <td>160-93-8788</td>\n",
       "    </tr>\n",
       "    <tr>\n",
       "      <th>323</th>\n",
       "      <td>Marc</td>\n",
       "      <td>Charsley</td>\n",
       "      <td>876-41-5434</td>\n",
       "    </tr>\n",
       "    <tr>\n",
       "      <th>324</th>\n",
       "      <td>Dodi</td>\n",
       "      <td>O'Hengerty</td>\n",
       "      <td>760-62-3807</td>\n",
       "    </tr>\n",
       "    <tr>\n",
       "      <th>325</th>\n",
       "      <td>Granny</td>\n",
       "      <td>Abramcik</td>\n",
       "      <td>139-61-7156</td>\n",
       "    </tr>\n",
       "    <tr>\n",
       "      <th>326</th>\n",
       "      <td>Gare</td>\n",
       "      <td>Brower</td>\n",
       "      <td>508-17-7357</td>\n",
       "    </tr>\n",
       "    <tr>\n",
       "      <th>327</th>\n",
       "      <td>Seymour</td>\n",
       "      <td>Vasyukhnov</td>\n",
       "      <td>747-97-6194</td>\n",
       "    </tr>\n",
       "    <tr>\n",
       "      <th>328</th>\n",
       "      <td>Rania</td>\n",
       "      <td>Gristock</td>\n",
       "      <td>402-36-0761</td>\n",
       "    </tr>\n",
       "    <tr>\n",
       "      <th>329</th>\n",
       "      <td>Viviana</td>\n",
       "      <td>Addey</td>\n",
       "      <td>454-58-3040</td>\n",
       "    </tr>\n",
       "    <tr>\n",
       "      <th>330</th>\n",
       "      <td>Jacob</td>\n",
       "      <td>Paumier</td>\n",
       "      <td>384-87-7299</td>\n",
       "    </tr>\n",
       "    <tr>\n",
       "      <th>331</th>\n",
       "      <td>Mortimer</td>\n",
       "      <td>Lanfare</td>\n",
       "      <td>385-03-1480</td>\n",
       "    </tr>\n",
       "    <tr>\n",
       "      <th>332</th>\n",
       "      <td>Rozalin</td>\n",
       "      <td>Espinola</td>\n",
       "      <td>473-29-9864</td>\n",
       "    </tr>\n",
       "    <tr>\n",
       "      <th>333</th>\n",
       "      <td>Twyla</td>\n",
       "      <td>Leinthall</td>\n",
       "      <td>156-41-5995</td>\n",
       "    </tr>\n",
       "    <tr>\n",
       "      <th>334</th>\n",
       "      <td>Bax</td>\n",
       "      <td>Checkley</td>\n",
       "      <td>288-06-7434</td>\n",
       "    </tr>\n",
       "    <tr>\n",
       "      <th>335</th>\n",
       "      <td>Shadow</td>\n",
       "      <td>Stife</td>\n",
       "      <td>886-60-7236</td>\n",
       "    </tr>\n",
       "    <tr>\n",
       "      <th>336</th>\n",
       "      <td>Angela</td>\n",
       "      <td>Aiken</td>\n",
       "      <td>860-32-7461</td>\n",
       "    </tr>\n",
       "    <tr>\n",
       "      <th>337</th>\n",
       "      <td>Verena</td>\n",
       "      <td>Grimsdyke</td>\n",
       "      <td>736-91-4901</td>\n",
       "    </tr>\n",
       "    <tr>\n",
       "      <th>338</th>\n",
       "      <td>Casandra</td>\n",
       "      <td>Old</td>\n",
       "      <td>773-97-5135</td>\n",
       "    </tr>\n",
       "  </tbody>\n",
       "</table>\n",
       "<p>339 rows × 3 columns</p>\n",
       "</div>"
      ],
      "text/plain": [
       "     first_name          last_name social security number\n",
       "0        Bailie             Keppel            667-83-6790\n",
       "1         Rayna            Josephs            248-61-5179\n",
       "2          Cull             Tabour            205-43-7993\n",
       "3        Noelle           Sterrick            294-48-6337\n",
       "4        Maximo           Switland            171-39-7066\n",
       "5        Anselm             Tonner            255-31-6815\n",
       "6       Vaughan           Bowditch            120-37-7977\n",
       "7        Nettle        Sciacovelli            604-05-4954\n",
       "8        Yasmin             Morten            593-58-1275\n",
       "9         Byrom              Polly            246-37-2145\n",
       "10         Josi           Helstrip            187-44-4574\n",
       "11      Raleigh             Wakley            284-42-5513\n",
       "12        Louis          Wynrahame            850-70-7580\n",
       "13       Harold            Warlawe            131-53-1300\n",
       "14      Brandon           Cheetham            675-75-3385\n",
       "15         Jody           Gallager            343-53-5415\n",
       "16      Raynell            Yendall            554-75-9854\n",
       "17         Noah            Burrows            728-37-5346\n",
       "18        Tanny             Seeler            324-98-4373\n",
       "19     Odelinda           Wadforth            378-27-8043\n",
       "20         Calv               Enos            229-38-0946\n",
       "21      Jemimah           Hanburry            630-52-8107\n",
       "22       Janine            Tiernan            195-93-7322\n",
       "23       Warden            Searson            319-02-5426\n",
       "24       Yancey           Seignior            826-92-3689\n",
       "25   Bartholemy              Sayer            610-78-2934\n",
       "26     La verne            Snoxill            887-37-5808\n",
       "27         Hans             Staite            772-20-8626\n",
       "28      Brandon            Steptoe            326-85-6031\n",
       "29       Hailey             Tomasi            211-04-5913\n",
       "..          ...                ...                    ...\n",
       "309       Darcy            Erswell            736-89-9163\n",
       "310        Jess             Blance            708-60-5616\n",
       "311    Bernelle            Witling            374-19-4189\n",
       "312      Laurie              Dobel            867-53-9459\n",
       "313      Kelsey          Otteridge            384-07-7629\n",
       "314       Barny              Goose            709-35-6536\n",
       "315       Faber            Antonov            393-79-7094\n",
       "316     Correna          Dunbobbin            311-90-7225\n",
       "317         Ina            Rickell            805-96-3153\n",
       "318       Genia          Haglinton            885-93-3614\n",
       "319       Casar             Haibel            877-88-5461\n",
       "320     Aloisia            Pancast            152-69-8463\n",
       "321     Cherice  Golden of Ireland            705-49-5043\n",
       "322      Delmer             Gambie            160-93-8788\n",
       "323        Marc           Charsley            876-41-5434\n",
       "324        Dodi         O'Hengerty            760-62-3807\n",
       "325      Granny           Abramcik            139-61-7156\n",
       "326        Gare             Brower            508-17-7357\n",
       "327     Seymour         Vasyukhnov            747-97-6194\n",
       "328       Rania           Gristock            402-36-0761\n",
       "329     Viviana              Addey            454-58-3040\n",
       "330       Jacob            Paumier            384-87-7299\n",
       "331    Mortimer            Lanfare            385-03-1480\n",
       "332     Rozalin           Espinola            473-29-9864\n",
       "333       Twyla          Leinthall            156-41-5995\n",
       "334         Bax           Checkley            288-06-7434\n",
       "335      Shadow              Stife            886-60-7236\n",
       "336      Angela              Aiken            860-32-7461\n",
       "337      Verena          Grimsdyke            736-91-4901\n",
       "338    Casandra                Old            773-97-5135\n",
       "\n",
       "[339 rows x 3 columns]"
      ]
     },
     "execution_count": 191,
     "metadata": {},
     "output_type": "execute_result"
    }
   ],
   "source": [
    "df2"
   ]
  },
  {
   "cell_type": "code",
   "execution_count": 49,
   "metadata": {},
   "outputs": [
    {
     "data": {
      "text/html": [
       "<div>\n",
       "<style scoped>\n",
       "    .dataframe tbody tr th:only-of-type {\n",
       "        vertical-align: middle;\n",
       "    }\n",
       "\n",
       "    .dataframe tbody tr th {\n",
       "        vertical-align: top;\n",
       "    }\n",
       "\n",
       "    .dataframe thead th {\n",
       "        text-align: right;\n",
       "    }\n",
       "</style>\n",
       "<table border=\"1\" class=\"dataframe\">\n",
       "  <thead>\n",
       "    <tr style=\"text-align: right;\">\n",
       "      <th></th>\n",
       "      <th>first_name</th>\n",
       "      <th>last_name</th>\n",
       "      <th>social security number</th>\n",
       "    </tr>\n",
       "  </thead>\n",
       "  <tbody>\n",
       "    <tr>\n",
       "      <th>0</th>\n",
       "      <td>Barrett</td>\n",
       "      <td>Dybell</td>\n",
       "      <td>655-91-9407</td>\n",
       "    </tr>\n",
       "    <tr>\n",
       "      <th>1</th>\n",
       "      <td>Correy</td>\n",
       "      <td>Antunez</td>\n",
       "      <td>591-95-0381</td>\n",
       "    </tr>\n",
       "    <tr>\n",
       "      <th>2</th>\n",
       "      <td>Robbi</td>\n",
       "      <td>Amsden</td>\n",
       "      <td>539-05-0912</td>\n",
       "    </tr>\n",
       "    <tr>\n",
       "      <th>3</th>\n",
       "      <td>Welby</td>\n",
       "      <td>Zanazzi</td>\n",
       "      <td>151-75-0158</td>\n",
       "    </tr>\n",
       "    <tr>\n",
       "      <th>4</th>\n",
       "      <td>Bailie</td>\n",
       "      <td>Keppel</td>\n",
       "      <td>667-83-6790</td>\n",
       "    </tr>\n",
       "    <tr>\n",
       "      <th>...</th>\n",
       "      <td>...</td>\n",
       "      <td>...</td>\n",
       "      <td>...</td>\n",
       "    </tr>\n",
       "    <tr>\n",
       "      <th>953</th>\n",
       "      <td>Nickey</td>\n",
       "      <td>Danford</td>\n",
       "      <td>553-71-3819</td>\n",
       "    </tr>\n",
       "    <tr>\n",
       "      <th>954</th>\n",
       "      <td>Casandra</td>\n",
       "      <td>Old</td>\n",
       "      <td>773-97-5135</td>\n",
       "    </tr>\n",
       "    <tr>\n",
       "      <th>955</th>\n",
       "      <td>Kerby</td>\n",
       "      <td>Mablestone</td>\n",
       "      <td>737-52-7165</td>\n",
       "    </tr>\n",
       "    <tr>\n",
       "      <th>956</th>\n",
       "      <td>Griff</td>\n",
       "      <td>Thame</td>\n",
       "      <td>701-54-2759</td>\n",
       "    </tr>\n",
       "    <tr>\n",
       "      <th>957</th>\n",
       "      <td>Rainer</td>\n",
       "      <td>Durante</td>\n",
       "      <td>847-83-4580</td>\n",
       "    </tr>\n",
       "  </tbody>\n",
       "</table>\n",
       "<p>958 rows × 3 columns</p>\n",
       "</div>"
      ],
      "text/plain": [
       "    first_name   last_name social security number\n",
       "0      Barrett      Dybell            655-91-9407\n",
       "1       Correy     Antunez            591-95-0381\n",
       "2        Robbi      Amsden            539-05-0912\n",
       "3        Welby     Zanazzi            151-75-0158\n",
       "4       Bailie      Keppel            667-83-6790\n",
       "..         ...         ...                    ...\n",
       "953     Nickey     Danford            553-71-3819\n",
       "954   Casandra         Old            773-97-5135\n",
       "955      Kerby  Mablestone            737-52-7165\n",
       "956      Griff       Thame            701-54-2759\n",
       "957     Rainer     Durante            847-83-4580\n",
       "\n",
       "[958 rows x 3 columns]"
      ]
     },
     "execution_count": 49,
     "metadata": {},
     "output_type": "execute_result"
    }
   ],
   "source": [
    "runsql(List[1])\n",
    "df2"
   ]
  },
  {
   "cell_type": "code",
   "execution_count": null,
   "metadata": {},
   "outputs": [],
   "source": []
  },
  {
   "cell_type": "code",
   "execution_count": null,
   "metadata": {},
   "outputs": [],
   "source": []
  },
  {
   "cell_type": "code",
   "execution_count": null,
   "metadata": {},
   "outputs": [],
   "source": []
  }
 ],
 "metadata": {
  "kernelspec": {
   "display_name": "Python 3",
   "language": "python",
   "name": "python3"
  },
  "language_info": {
   "codemirror_mode": {
    "name": "ipython",
    "version": 3
   },
   "file_extension": ".py",
   "mimetype": "text/x-python",
   "name": "python",
   "nbconvert_exporter": "python",
   "pygments_lexer": "ipython3",
   "version": "3.7.6"
  }
 },
 "nbformat": 4,
 "nbformat_minor": 2
}
