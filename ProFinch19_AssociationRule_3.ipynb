{
 "cells": [
  {
   "cell_type": "code",
   "execution_count": 1,
   "metadata": {},
   "outputs": [],
   "source": [
    "import pandas as pd\n",
    "import numpy as np\n",
    "import os\n",
    "import pyodbc\n",
    "import datetime\n",
    "from mlxtend.frequent_patterns import apriori, association_rules \n",
    "from mlxtend.preprocessing import TransactionEncoder\n",
    "\n",
    "# from apyori import apriori\n",
    "\n",
    "os.chdir('C:\\\\Users\\\\hp\\\\Desktop\\\\ProFinch')\n",
    "\n",
    "df=pd.read_excel(\"CustomerInfo5.xlsx\")\n",
    "\n",
    "df=df.drop(['Unnamed: 0'],axis=1)"
   ]
  },
  {
   "cell_type": "code",
   "execution_count": 3,
   "metadata": {},
   "outputs": [],
   "source": [
    "df.columns=df.columns.str.strip().str.lower().str.replace(' ','_').str.replace('(','').str.replace(')','')"
   ]
  },
  {
   "cell_type": "code",
   "execution_count": 4,
   "metadata": {},
   "outputs": [
    {
     "data": {
      "text/plain": [
       "first_name                           object\n",
       "last_name                            object\n",
       "gender                               object\n",
       "age                                   int64\n",
       "country                              object\n",
       "state                                object\n",
       "postal_code                           int64\n",
       "social_security_number               object\n",
       "company                              object\n",
       "job_title                            object\n",
       "salary                                int64\n",
       "card_number                           int64\n",
       "card_type                            object\n",
       "money_withdrawn_amount              float64\n",
       "money_withdrawn_reason               object\n",
       "money_withdrawn_location             object\n",
       "suspicious_activity                    bool\n",
       "no.of_transactions                    int64\n",
       "money_withdrawn_date         datetime64[ns]\n",
       "money_withdrawn_date_only            object\n",
       "amount_transferred                  float64\n",
       "sender_id                             int64\n",
       "receiver_id                           int64\n",
       "time_only                            object\n",
       "dtype: object"
      ]
     },
     "execution_count": 4,
     "metadata": {},
     "output_type": "execute_result"
    }
   ],
   "source": [
    "df.dtypes"
   ]
  },
  {
   "cell_type": "code",
   "execution_count": null,
   "metadata": {},
   "outputs": [],
   "source": []
  },
  {
   "cell_type": "code",
   "execution_count": null,
   "metadata": {},
   "outputs": [],
   "source": []
  },
  {
   "cell_type": "code",
   "execution_count": null,
   "metadata": {},
   "outputs": [],
   "source": []
  },
  {
   "cell_type": "code",
   "execution_count": null,
   "metadata": {},
   "outputs": [],
   "source": []
  }
 ],
 "metadata": {
  "kernelspec": {
   "display_name": "Python 3",
   "language": "python",
   "name": "python3"
  },
  "language_info": {
   "codemirror_mode": {
    "name": "ipython",
    "version": 3
   },
   "file_extension": ".py",
   "mimetype": "text/x-python",
   "name": "python",
   "nbconvert_exporter": "python",
   "pygments_lexer": "ipython3",
   "version": "3.7.6"
  }
 },
 "nbformat": 4,
 "nbformat_minor": 4
}
