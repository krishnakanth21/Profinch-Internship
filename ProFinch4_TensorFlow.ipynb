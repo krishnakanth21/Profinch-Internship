{
 "cells": [
  {
   "cell_type": "markdown",
   "metadata": {},
   "source": [
    "# Simple Keras model"
   ]
  },
  {
   "cell_type": "code",
   "execution_count": 5,
   "metadata": {},
   "outputs": [
    {
     "ename": "ModuleNotFoundError",
     "evalue": "No module named 'tensorflow'",
     "output_type": "error",
     "traceback": [
      "\u001b[1;31m---------------------------------------------------------------------------\u001b[0m",
      "\u001b[1;31mModuleNotFoundError\u001b[0m                       Traceback (most recent call last)",
      "\u001b[1;32m<ipython-input-5-d634b68d14f4>\u001b[0m in \u001b[0;36m<module>\u001b[1;34m\u001b[0m\n\u001b[1;32m----> 1\u001b[1;33m \u001b[1;32mimport\u001b[0m \u001b[0mtensorflow\u001b[0m \u001b[1;32mas\u001b[0m \u001b[0mtf\u001b[0m\u001b[1;33m\u001b[0m\u001b[1;33m\u001b[0m\u001b[0m\n\u001b[0m\u001b[0;32m      2\u001b[0m \u001b[1;31m# from tensorflow import keras\u001b[0m\u001b[1;33m\u001b[0m\u001b[1;33m\u001b[0m\u001b[1;33m\u001b[0m\u001b[0m\n\u001b[0;32m      3\u001b[0m \u001b[1;32mimport\u001b[0m \u001b[0mnumpy\u001b[0m \u001b[1;32mas\u001b[0m \u001b[0mnp\u001b[0m\u001b[1;33m\u001b[0m\u001b[1;33m\u001b[0m\u001b[0m\n\u001b[0;32m      4\u001b[0m \u001b[1;32mimport\u001b[0m \u001b[0mmatplotlib\u001b[0m\u001b[1;33m.\u001b[0m\u001b[0mpyplot\u001b[0m \u001b[1;32mas\u001b[0m \u001b[0mplt\u001b[0m\u001b[1;33m\u001b[0m\u001b[1;33m\u001b[0m\u001b[0m\n\u001b[0;32m      5\u001b[0m \u001b[0mprint\u001b[0m\u001b[1;33m(\u001b[0m\u001b[0mtf\u001b[0m\u001b[1;33m.\u001b[0m\u001b[0m__version__\u001b[0m\u001b[1;33m)\u001b[0m\u001b[1;33m\u001b[0m\u001b[1;33m\u001b[0m\u001b[0m\n",
      "\u001b[1;31mModuleNotFoundError\u001b[0m: No module named 'tensorflow'"
     ]
    }
   ],
   "source": [
    "import tensorflow as tf\n",
    "# from tensorflow import keras\n",
    "import numpy as np\n",
    "import matplotlib.pyplot as plt\n",
    "print(tf.__version__)"
   ]
  },
  {
   "cell_type": "code",
   "execution_count": 3,
   "metadata": {},
   "outputs": [
    {
     "name": "stderr",
     "output_type": "stream",
     "text": [
      "Using TensorFlow backend.\n"
     ]
    }
   ],
   "source": [
    "import pandas\n",
    "from keras.models import Sequential\n",
    "from keras.layers import Dense\n",
    "from keras.wrappers.scikit_learn import KerasClassifier\n",
    "from sklearn.model_selection import cross_val_score\n",
    "from sklearn.preprocessing import LabelEncoder\n",
    "from sklearn.model_selection import StratifiedKFold\n",
    "from sklearn.preprocessing import StandardScaler\n",
    "from sklearn.pipeline import Pipeline"
   ]
  },
  {
   "cell_type": "code",
   "execution_count": 4,
   "metadata": {},
   "outputs": [],
   "source": [
    "import os\n",
    "import pandas as pd\n",
    "import numpy as nnp"
   ]
  },
  {
   "cell_type": "code",
   "execution_count": 5,
   "metadata": {},
   "outputs": [],
   "source": [
    "os.chdir('C:\\\\Users\\\\super\\\\OneDrive\\\\Desktop')"
   ]
  },
  {
   "cell_type": "code",
   "execution_count": 6,
   "metadata": {},
   "outputs": [],
   "source": [
    "df=pd.DataFrame()\n",
    "df=pd.read_excel(\"CustomerData.xlsx\")"
   ]
  },
  {
   "cell_type": "code",
   "execution_count": 7,
   "metadata": {},
   "outputs": [],
   "source": [
    "from sklearn import preprocessing \n",
    "label_encoder = preprocessing.LabelEncoder() \n",
    "df['gender']= label_encoder.fit_transform(df['gender'])   \n",
    "df['country']= label_encoder.fit_transform(df['country'])   \n",
    "df['state']= label_encoder.fit_transform(df['state'])  \n",
    "df['company']= label_encoder.fit_transform(df['company'])\n",
    "df['job title']= label_encoder.fit_transform(df['job title'])\n",
    "df['card type']= label_encoder.fit_transform(df['card type'])\n",
    "df['money_withdrawn_reason']= label_encoder.fit_transform(df['money_withdrawn_reason'])\n",
    "df['money_withdrawn_location']= label_encoder.fit_transform(df['money_withdrawn_location'])"
   ]
  },
  {
   "cell_type": "code",
   "execution_count": 8,
   "metadata": {},
   "outputs": [
    {
     "name": "stderr",
     "output_type": "stream",
     "text": [
      "C:\\Users\\super\\Anaconda3\\lib\\site-packages\\ipykernel_launcher.py:2: SettingWithCopyWarning: \n",
      "A value is trying to be set on a copy of a slice from a DataFrame\n",
      "\n",
      "See the caveats in the documentation: http://pandas.pydata.org/pandas-docs/stable/indexing.html#indexing-view-versus-copy\n",
      "  \n"
     ]
    }
   ],
   "source": [
    "for i in range(1000):\n",
    "    df['money_withdrawn_amount'][i]=df['money_withdrawn_amount'][i][1:]\n",
    "df['money_withdrawn_amount']=df['money_withdrawn_amount'].astype(float)  "
   ]
  },
  {
   "cell_type": "code",
   "execution_count": 31,
   "metadata": {},
   "outputs": [],
   "source": [
    "feature_names=df.drop(['first_name','last_name','Valid Transaction','social security number','money_withdrawn_time'],axis=1)\n",
    "X=feature_names\n",
    "y=df['Valid Transaction']"
   ]
  },
  {
   "cell_type": "code",
   "execution_count": 32,
   "metadata": {},
   "outputs": [],
   "source": [
    "from sklearn.model_selection import train_test_split\n",
    "random_state = np.random.RandomState(0)\n",
    "X_train, X_test, y_train, y_test = train_test_split(X, y,test_size=0.3, random_state=random_state)"
   ]
  },
  {
   "cell_type": "code",
   "execution_count": 33,
   "metadata": {},
   "outputs": [],
   "source": [
    "model = Sequential()\n",
    "model.add(Dense(12, input_dim=13, activation='relu'))\n",
    "model.add(Dense(8, activation='relu'))\n",
    "model.add(Dense(1, activation='sigmoid'))"
   ]
  },
  {
   "cell_type": "code",
   "execution_count": 34,
   "metadata": {},
   "outputs": [],
   "source": [
    "model.compile(loss='binary_crossentropy', optimizer='adam', metrics=['accuracy'])"
   ]
  },
  {
   "cell_type": "code",
   "execution_count": 35,
   "metadata": {
    "collapsed": true
   },
   "outputs": [
    {
     "name": "stdout",
     "output_type": "stream",
     "text": [
      "Epoch 1/150\n",
      "1000/1000 [==============================] - 1s 1ms/step - loss: 3.1885 - acc: 0.8000\n",
      "Epoch 2/150\n",
      "1000/1000 [==============================] - 0s 219us/step - loss: 3.1885 - acc: 0.8000\n",
      "Epoch 3/150\n",
      "1000/1000 [==============================] - 0s 246us/step - loss: 3.1885 - acc: 0.8000\n",
      "Epoch 4/150\n",
      "1000/1000 [==============================] - 0s 256us/step - loss: 3.1885 - acc: 0.8000\n",
      "Epoch 5/150\n",
      "1000/1000 [==============================] - 0s 260us/step - loss: 3.1885 - acc: 0.8000\n",
      "Epoch 6/150\n",
      "1000/1000 [==============================] - 0s 292us/step - loss: 3.1885 - acc: 0.8000\n",
      "Epoch 7/150\n",
      "1000/1000 [==============================] - 0s 261us/step - loss: 3.1885 - acc: 0.8000\n",
      "Epoch 8/150\n",
      "1000/1000 [==============================] - 0s 276us/step - loss: 3.1885 - acc: 0.8000\n",
      "Epoch 9/150\n",
      "1000/1000 [==============================] - 0s 283us/step - loss: 3.1885 - acc: 0.8000\n",
      "Epoch 10/150\n",
      "1000/1000 [==============================] - 0s 261us/step - loss: 3.1885 - acc: 0.8000\n",
      "Epoch 11/150\n",
      "1000/1000 [==============================] - 0s 245us/step - loss: 3.1885 - acc: 0.8000\n",
      "Epoch 12/150\n",
      "1000/1000 [==============================] - 0s 270us/step - loss: 3.1885 - acc: 0.8000\n",
      "Epoch 13/150\n",
      "1000/1000 [==============================] - 0s 256us/step - loss: 3.1885 - acc: 0.8000\n",
      "Epoch 14/150\n",
      "1000/1000 [==============================] - 0s 238us/step - loss: 3.1885 - acc: 0.8000\n",
      "Epoch 15/150\n",
      "1000/1000 [==============================] - 0s 222us/step - loss: 3.1885 - acc: 0.8000\n",
      "Epoch 16/150\n",
      "1000/1000 [==============================] - 0s 256us/step - loss: 3.1885 - acc: 0.8000\n",
      "Epoch 17/150\n",
      "1000/1000 [==============================] - 0s 262us/step - loss: 3.1885 - acc: 0.8000\n",
      "Epoch 18/150\n",
      "1000/1000 [==============================] - 0s 254us/step - loss: 3.1885 - acc: 0.8000\n",
      "Epoch 19/150\n",
      "1000/1000 [==============================] - 0s 250us/step - loss: 3.1885 - acc: 0.8000\n",
      "Epoch 20/150\n",
      "1000/1000 [==============================] - 0s 249us/step - loss: 3.1885 - acc: 0.8000\n",
      "Epoch 21/150\n",
      "1000/1000 [==============================] - 0s 255us/step - loss: 3.1885 - acc: 0.8000\n",
      "Epoch 22/150\n",
      "1000/1000 [==============================] - 0s 255us/step - loss: 3.1885 - acc: 0.8000\n",
      "Epoch 23/150\n",
      "1000/1000 [==============================] - 0s 257us/step - loss: 3.1885 - acc: 0.8000\n",
      "Epoch 24/150\n",
      "1000/1000 [==============================] - 0s 253us/step - loss: 3.1885 - acc: 0.8000\n",
      "Epoch 25/150\n",
      "1000/1000 [==============================] - 0s 250us/step - loss: 3.1885 - acc: 0.8000\n",
      "Epoch 26/150\n",
      "1000/1000 [==============================] - 0s 254us/step - loss: 3.1885 - acc: 0.8000\n",
      "Epoch 27/150\n",
      "1000/1000 [==============================] - 0s 255us/step - loss: 3.1885 - acc: 0.8000\n",
      "Epoch 28/150\n",
      "1000/1000 [==============================] - 0s 253us/step - loss: 3.1885 - acc: 0.8000\n",
      "Epoch 29/150\n",
      "1000/1000 [==============================] - 0s 254us/step - loss: 3.1885 - acc: 0.8000\n",
      "Epoch 30/150\n",
      "1000/1000 [==============================] - 0s 262us/step - loss: 3.1885 - acc: 0.8000\n",
      "Epoch 31/150\n",
      "1000/1000 [==============================] - 0s 259us/step - loss: 3.1885 - acc: 0.8000\n",
      "Epoch 32/150\n",
      "1000/1000 [==============================] - 0s 267us/step - loss: 3.1885 - acc: 0.8000\n",
      "Epoch 33/150\n",
      "1000/1000 [==============================] - 0s 258us/step - loss: 3.1885 - acc: 0.8000\n",
      "Epoch 34/150\n",
      "1000/1000 [==============================] - 0s 257us/step - loss: 3.1885 - acc: 0.8000\n",
      "Epoch 35/150\n",
      "1000/1000 [==============================] - 0s 274us/step - loss: 3.1885 - acc: 0.8000\n",
      "Epoch 36/150\n",
      "1000/1000 [==============================] - 0s 229us/step - loss: 3.1885 - acc: 0.8000\n",
      "Epoch 37/150\n",
      "1000/1000 [==============================] - 0s 241us/step - loss: 3.1885 - acc: 0.8000\n",
      "Epoch 38/150\n",
      "1000/1000 [==============================] - 0s 272us/step - loss: 3.1885 - acc: 0.8000\n",
      "Epoch 39/150\n",
      "1000/1000 [==============================] - 0s 251us/step - loss: 3.1885 - acc: 0.8000\n",
      "Epoch 40/150\n",
      "1000/1000 [==============================] - 0s 250us/step - loss: 3.1885 - acc: 0.8000\n",
      "Epoch 41/150\n",
      "1000/1000 [==============================] - 0s 256us/step - loss: 3.1885 - acc: 0.8000\n",
      "Epoch 42/150\n",
      "1000/1000 [==============================] - 0s 260us/step - loss: 3.1885 - acc: 0.8000\n",
      "Epoch 43/150\n",
      "1000/1000 [==============================] - 0s 250us/step - loss: 3.1885 - acc: 0.8000\n",
      "Epoch 44/150\n",
      "1000/1000 [==============================] - 0s 252us/step - loss: 3.1885 - acc: 0.8000\n",
      "Epoch 45/150\n",
      "1000/1000 [==============================] - 0s 249us/step - loss: 3.1885 - acc: 0.8000\n",
      "Epoch 46/150\n",
      "1000/1000 [==============================] - 0s 253us/step - loss: 3.1885 - acc: 0.8000\n",
      "Epoch 47/150\n",
      "1000/1000 [==============================] - 0s 251us/step - loss: 3.1885 - acc: 0.8000\n",
      "Epoch 48/150\n",
      "1000/1000 [==============================] - 0s 249us/step - loss: 3.1885 - acc: 0.8000\n",
      "Epoch 49/150\n",
      "1000/1000 [==============================] - 0s 253us/step - loss: 3.1885 - acc: 0.8000\n",
      "Epoch 50/150\n",
      "1000/1000 [==============================] - 0s 250us/step - loss: 3.1885 - acc: 0.8000\n",
      "Epoch 51/150\n",
      "1000/1000 [==============================] - 0s 255us/step - loss: 3.1885 - acc: 0.8000\n",
      "Epoch 52/150\n",
      "1000/1000 [==============================] - 0s 250us/step - loss: 3.1885 - acc: 0.8000\n",
      "Epoch 53/150\n",
      "1000/1000 [==============================] - 0s 258us/step - loss: 3.1885 - acc: 0.8000\n",
      "Epoch 54/150\n",
      "1000/1000 [==============================] - 0s 259us/step - loss: 3.1885 - acc: 0.8000\n",
      "Epoch 55/150\n",
      "1000/1000 [==============================] - 0s 248us/step - loss: 3.1885 - acc: 0.8000\n",
      "Epoch 56/150\n",
      "1000/1000 [==============================] - 0s 254us/step - loss: 3.1885 - acc: 0.8000\n",
      "Epoch 57/150\n",
      "1000/1000 [==============================] - 0s 246us/step - loss: 3.1885 - acc: 0.8000\n",
      "Epoch 58/150\n",
      "1000/1000 [==============================] - 0s 202us/step - loss: 3.1885 - acc: 0.8000\n",
      "Epoch 59/150\n",
      "1000/1000 [==============================] - 0s 220us/step - loss: 3.1885 - acc: 0.8000\n",
      "Epoch 60/150\n",
      "1000/1000 [==============================] - 0s 248us/step - loss: 3.1885 - acc: 0.8000\n",
      "Epoch 61/150\n",
      "1000/1000 [==============================] - 0s 243us/step - loss: 3.1885 - acc: 0.8000\n",
      "Epoch 62/150\n",
      "1000/1000 [==============================] - 0s 249us/step - loss: 3.1885 - acc: 0.8000\n",
      "Epoch 63/150\n",
      "1000/1000 [==============================] - 0s 249us/step - loss: 3.1885 - acc: 0.8000\n",
      "Epoch 64/150\n",
      "1000/1000 [==============================] - 0s 245us/step - loss: 3.1885 - acc: 0.8000\n",
      "Epoch 65/150\n",
      "1000/1000 [==============================] - 0s 247us/step - loss: 3.1885 - acc: 0.8000\n",
      "Epoch 66/150\n",
      "1000/1000 [==============================] - 0s 262us/step - loss: 3.1885 - acc: 0.8000\n",
      "Epoch 67/150\n",
      "1000/1000 [==============================] - 0s 262us/step - loss: 3.1885 - acc: 0.8000\n",
      "Epoch 68/150\n",
      "1000/1000 [==============================] - 0s 276us/step - loss: 3.1885 - acc: 0.8000\n",
      "Epoch 69/150\n",
      "1000/1000 [==============================] - 0s 244us/step - loss: 3.1885 - acc: 0.8000\n",
      "Epoch 70/150\n",
      "1000/1000 [==============================] - 0s 256us/step - loss: 3.1885 - acc: 0.8000\n",
      "Epoch 71/150\n",
      "1000/1000 [==============================] - 0s 258us/step - loss: 3.1885 - acc: 0.8000ETA: 0s - loss: 2.7330 - acc: 0.8286\n",
      "Epoch 72/150\n",
      "1000/1000 [==============================] - 0s 278us/step - loss: 3.1885 - acc: 0.8000\n",
      "Epoch 73/150\n",
      "1000/1000 [==============================] - 0s 253us/step - loss: 3.1885 - acc: 0.8000\n",
      "Epoch 74/150\n",
      "1000/1000 [==============================] - 0s 267us/step - loss: 3.1885 - acc: 0.8000\n",
      "Epoch 75/150\n",
      "1000/1000 [==============================] - 0s 256us/step - loss: 3.1885 - acc: 0.8000\n",
      "Epoch 76/150\n",
      "1000/1000 [==============================] - 0s 253us/step - loss: 3.1885 - acc: 0.8000\n",
      "Epoch 77/150\n",
      "1000/1000 [==============================] - 0s 251us/step - loss: 3.1885 - acc: 0.8000\n",
      "Epoch 78/150\n",
      "1000/1000 [==============================] - 0s 282us/step - loss: 3.1885 - acc: 0.8000\n",
      "Epoch 79/150\n",
      "1000/1000 [==============================] - 0s 256us/step - loss: 3.1885 - acc: 0.8000\n",
      "Epoch 80/150\n",
      "1000/1000 [==============================] - 0s 251us/step - loss: 3.1885 - acc: 0.8000\n",
      "Epoch 81/150\n",
      "1000/1000 [==============================] - 0s 265us/step - loss: 3.1885 - acc: 0.8000\n",
      "Epoch 82/150\n",
      "1000/1000 [==============================] - 0s 252us/step - loss: 3.1885 - acc: 0.8000\n",
      "Epoch 83/150\n",
      "1000/1000 [==============================] - 0s 334us/step - loss: 3.1885 - acc: 0.8000\n",
      "Epoch 84/150\n",
      "1000/1000 [==============================] - 0s 278us/step - loss: 3.1885 - acc: 0.8000\n",
      "Epoch 85/150\n",
      "1000/1000 [==============================] - 0s 275us/step - loss: 3.1885 - acc: 0.8000\n",
      "Epoch 86/150\n",
      "1000/1000 [==============================] - 0s 270us/step - loss: 3.1885 - acc: 0.8000\n",
      "Epoch 87/150\n",
      "1000/1000 [==============================] - 0s 263us/step - loss: 3.1885 - acc: 0.8000\n",
      "Epoch 88/150\n",
      "1000/1000 [==============================] - 0s 257us/step - loss: 3.1885 - acc: 0.8000\n",
      "Epoch 89/150\n",
      "1000/1000 [==============================] - 0s 254us/step - loss: 3.1885 - acc: 0.8000\n",
      "Epoch 90/150\n",
      "1000/1000 [==============================] - 0s 253us/step - loss: 3.1885 - acc: 0.8000\n",
      "Epoch 91/150\n",
      "1000/1000 [==============================] - 0s 251us/step - loss: 3.1885 - acc: 0.8000\n",
      "Epoch 92/150\n",
      "1000/1000 [==============================] - 0s 244us/step - loss: 3.1885 - acc: 0.8000\n",
      "Epoch 93/150\n",
      "1000/1000 [==============================] - 0s 247us/step - loss: 3.1885 - acc: 0.8000\n",
      "Epoch 94/150\n",
      "1000/1000 [==============================] - 0s 244us/step - loss: 3.1885 - acc: 0.8000\n",
      "Epoch 95/150\n",
      "1000/1000 [==============================] - 0s 253us/step - loss: 3.1885 - acc: 0.8000\n",
      "Epoch 96/150\n",
      "1000/1000 [==============================] - 0s 248us/step - loss: 3.1885 - acc: 0.8000\n",
      "Epoch 97/150\n",
      "1000/1000 [==============================] - 0s 262us/step - loss: 3.1885 - acc: 0.8000\n",
      "Epoch 98/150\n",
      "1000/1000 [==============================] - 0s 262us/step - loss: 3.1885 - acc: 0.8000\n",
      "Epoch 99/150\n",
      "1000/1000 [==============================] - 0s 295us/step - loss: 3.1885 - acc: 0.8000\n",
      "Epoch 100/150\n",
      "1000/1000 [==============================] - 0s 239us/step - loss: 3.1885 - acc: 0.8000\n",
      "Epoch 101/150\n",
      "1000/1000 [==============================] - ETA: 0s - loss: 3.1549 - acc: 0.802 - 0s 225us/step - loss: 3.1885 - acc: 0.8000\n",
      "Epoch 102/150\n",
      "1000/1000 [==============================] - 0s 238us/step - loss: 3.1885 - acc: 0.8000\n",
      "Epoch 103/150\n",
      "1000/1000 [==============================] - 0s 257us/step - loss: 3.1885 - acc: 0.8000\n",
      "Epoch 104/150\n",
      "1000/1000 [==============================] - 0s 242us/step - loss: 3.1885 - acc: 0.8000\n",
      "Epoch 105/150\n",
      "1000/1000 [==============================] - 0s 246us/step - loss: 3.1885 - acc: 0.8000\n",
      "Epoch 106/150\n",
      "1000/1000 [==============================] - 0s 245us/step - loss: 3.1885 - acc: 0.8000\n",
      "Epoch 107/150\n",
      "1000/1000 [==============================] - 0s 249us/step - loss: 3.1885 - acc: 0.8000\n",
      "Epoch 108/150\n",
      "1000/1000 [==============================] - 0s 251us/step - loss: 3.1885 - acc: 0.8000\n",
      "Epoch 109/150\n",
      "1000/1000 [==============================] - 0s 249us/step - loss: 3.1885 - acc: 0.8000\n",
      "Epoch 110/150\n",
      "1000/1000 [==============================] - 0s 250us/step - loss: 3.1885 - acc: 0.8000\n",
      "Epoch 111/150\n",
      "1000/1000 [==============================] - 0s 249us/step - loss: 3.1885 - acc: 0.8000\n",
      "Epoch 112/150\n",
      "1000/1000 [==============================] - 0s 247us/step - loss: 3.1885 - acc: 0.8000\n",
      "Epoch 113/150\n",
      "1000/1000 [==============================] - 0s 241us/step - loss: 3.1885 - acc: 0.8000\n",
      "Epoch 114/150\n",
      "1000/1000 [==============================] - 0s 246us/step - loss: 3.1885 - acc: 0.8000\n",
      "Epoch 115/150\n",
      "1000/1000 [==============================] - 0s 245us/step - loss: 3.1885 - acc: 0.8000\n",
      "Epoch 116/150\n",
      "1000/1000 [==============================] - 0s 246us/step - loss: 3.1885 - acc: 0.8000\n",
      "Epoch 117/150\n",
      "1000/1000 [==============================] - 0s 239us/step - loss: 3.1885 - acc: 0.8000\n",
      "Epoch 118/150\n",
      "1000/1000 [==============================] - 0s 239us/step - loss: 3.1885 - acc: 0.8000\n",
      "Epoch 119/150\n",
      "1000/1000 [==============================] - 0s 245us/step - loss: 3.1885 - acc: 0.8000\n",
      "Epoch 120/150\n",
      "1000/1000 [==============================] - 0s 246us/step - loss: 3.1885 - acc: 0.8000\n",
      "Epoch 121/150\n",
      "1000/1000 [==============================] - 0s 242us/step - loss: 3.1885 - acc: 0.8000\n",
      "Epoch 122/150\n",
      "1000/1000 [==============================] - 0s 264us/step - loss: 3.1885 - acc: 0.8000\n",
      "Epoch 123/150\n",
      "1000/1000 [==============================] - 0s 226us/step - loss: 3.1885 - acc: 0.8000\n",
      "Epoch 124/150\n",
      "1000/1000 [==============================] - 0s 226us/step - loss: 3.1885 - acc: 0.8000\n",
      "Epoch 125/150\n",
      "1000/1000 [==============================] - 0s 200us/step - loss: 3.1885 - acc: 0.8000\n",
      "Epoch 126/150\n",
      "1000/1000 [==============================] - 0s 206us/step - loss: 3.1885 - acc: 0.8000\n",
      "Epoch 127/150\n",
      "1000/1000 [==============================] - 0s 245us/step - loss: 3.1885 - acc: 0.8000\n",
      "Epoch 128/150\n",
      "1000/1000 [==============================] - 0s 249us/step - loss: 3.1885 - acc: 0.8000\n",
      "Epoch 129/150\n",
      "1000/1000 [==============================] - 0s 242us/step - loss: 3.1885 - acc: 0.8000\n",
      "Epoch 130/150\n",
      "1000/1000 [==============================] - 0s 243us/step - loss: 3.1885 - acc: 0.8000\n",
      "Epoch 131/150\n",
      "1000/1000 [==============================] - 0s 260us/step - loss: 3.1885 - acc: 0.8000\n",
      "Epoch 132/150\n",
      "1000/1000 [==============================] - 0s 268us/step - loss: 3.1885 - acc: 0.8000\n",
      "Epoch 133/150\n",
      "1000/1000 [==============================] - 0s 259us/step - loss: 3.1885 - acc: 0.8000\n",
      "Epoch 134/150\n",
      "1000/1000 [==============================] - 0s 260us/step - loss: 3.1885 - acc: 0.8000\n",
      "Epoch 135/150\n",
      "1000/1000 [==============================] - 0s 275us/step - loss: 3.1885 - acc: 0.8000\n",
      "Epoch 136/150\n",
      "1000/1000 [==============================] - 0s 255us/step - loss: 3.1885 - acc: 0.8000\n",
      "Epoch 137/150\n",
      "1000/1000 [==============================] - 0s 272us/step - loss: 3.1885 - acc: 0.8000\n",
      "Epoch 138/150\n",
      "1000/1000 [==============================] - 0s 241us/step - loss: 3.1885 - acc: 0.8000\n",
      "Epoch 139/150\n",
      "1000/1000 [==============================] - 0s 234us/step - loss: 3.1885 - acc: 0.8000\n",
      "Epoch 140/150\n",
      "1000/1000 [==============================] - 0s 255us/step - loss: 3.1885 - acc: 0.8000\n",
      "Epoch 141/150\n",
      "1000/1000 [==============================] - 0s 250us/step - loss: 3.1885 - acc: 0.8000\n",
      "Epoch 142/150\n",
      "1000/1000 [==============================] - 0s 250us/step - loss: 3.1885 - acc: 0.8000\n",
      "Epoch 143/150\n",
      "1000/1000 [==============================] - 0s 251us/step - loss: 3.1885 - acc: 0.8000\n",
      "Epoch 144/150\n",
      "1000/1000 [==============================] - 0s 285us/step - loss: 3.1885 - acc: 0.8000\n",
      "Epoch 145/150\n",
      "1000/1000 [==============================] - 0s 255us/step - loss: 3.1885 - acc: 0.8000\n",
      "Epoch 146/150\n",
      "1000/1000 [==============================] - 0s 277us/step - loss: 3.1885 - acc: 0.8000\n",
      "Epoch 147/150\n",
      "1000/1000 [==============================] - 0s 189us/step - loss: 3.1885 - acc: 0.8000\n",
      "Epoch 148/150\n",
      "1000/1000 [==============================] - 0s 191us/step - loss: 3.1885 - acc: 0.8000\n",
      "Epoch 149/150\n",
      "1000/1000 [==============================] - 0s 200us/step - loss: 3.1885 - acc: 0.8000\n",
      "Epoch 150/150\n",
      "1000/1000 [==============================] - 0s 239us/step - loss: 3.1885 - acc: 0.8000\n"
     ]
    },
    {
     "data": {
      "text/plain": [
       "<keras.callbacks.History at 0x14511e490f0>"
      ]
     },
     "execution_count": 35,
     "metadata": {},
     "output_type": "execute_result"
    }
   ],
   "source": [
    "model.fit(X, y, epochs=150, batch_size=10)"
   ]
  },
  {
   "cell_type": "code",
   "execution_count": 36,
   "metadata": {},
   "outputs": [
    {
     "name": "stdout",
     "output_type": "stream",
     "text": [
      "1000/1000 [==============================] - 0s 231us/step\n",
      "Accuracy: 80.00\n"
     ]
    }
   ],
   "source": [
    "_, accuracy = model.evaluate(X, y)\n",
    "print('Accuracy: %.2f' % (accuracy*100))"
   ]
  },
  {
   "cell_type": "code",
   "execution_count": 37,
   "metadata": {},
   "outputs": [
    {
     "name": "stdout",
     "output_type": "stream",
     "text": [
      "300/300 [==============================] - 0s 47us/step\n"
     ]
    }
   ],
   "source": [
    "test_loss, test_acc = model.evaluate(X_test, y_test)"
   ]
  },
  {
   "cell_type": "code",
   "execution_count": 38,
   "metadata": {},
   "outputs": [
    {
     "data": {
      "text/plain": [
       "0.793333334128062"
      ]
     },
     "execution_count": 38,
     "metadata": {},
     "output_type": "execute_result"
    }
   ],
   "source": [
    "test_acc"
   ]
  },
  {
   "cell_type": "code",
   "execution_count": null,
   "metadata": {},
   "outputs": [],
   "source": []
  }
 ],
 "metadata": {
  "kernelspec": {
   "display_name": "Python 3",
   "language": "python",
   "name": "python3"
  },
  "language_info": {
   "codemirror_mode": {
    "name": "ipython",
    "version": 3
   },
   "file_extension": ".py",
   "mimetype": "text/x-python",
   "name": "python",
   "nbconvert_exporter": "python",
   "pygments_lexer": "ipython3",
   "version": "3.7.6"
  }
 },
 "nbformat": 4,
 "nbformat_minor": 2
}
