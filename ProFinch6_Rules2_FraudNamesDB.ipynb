{
 "cells": [
  {
   "cell_type": "code",
   "execution_count": 1,
   "metadata": {},
   "outputs": [],
   "source": [
    "import pyodbc\n",
    "import pandas as pd\n",
    "import numpy as np\n",
    "import os"
   ]
  },
  {
   "cell_type": "markdown",
   "metadata": {},
   "source": [
    "# Making list of names with suspicious activity"
   ]
  },
  {
   "cell_type": "code",
   "execution_count": 9,
   "metadata": {},
   "outputs": [],
   "source": [
    "os.chdir('C:\\\\Users\\\\hp\\\\Desktop\\\\ProFinch')\n",
    "df=pd.DataFrame()\n",
    "df=pd.read_excel(\"CustomerInfo5.xlsx\")"
   ]
  },
  {
   "cell_type": "code",
   "execution_count": 13,
   "metadata": {},
   "outputs": [],
   "source": [
    "df_fraud=pd.DataFrame()\n",
    "df_fraud['first_name']=\"\"\n",
    "df_fraud['last_name']=\"\""
   ]
  },
  {
   "cell_type": "code",
   "execution_count": 14,
   "metadata": {},
   "outputs": [],
   "source": [
    "ct=0\n",
    "for i in range(1000):\n",
    "    if(df['Suspicious Activity'][i]==True):\n",
    "            df_fraud.loc[ct,'first_name']=df['first_name'][i]\n",
    "            df_fraud.loc[ct,'last_name']=df['last_name'][i]\n",
    "            ct=ct+1"
   ]
  },
  {
   "cell_type": "code",
   "execution_count": 15,
   "metadata": {},
   "outputs": [
    {
     "data": {
      "text/html": [
       "<div>\n",
       "<style scoped>\n",
       "    .dataframe tbody tr th:only-of-type {\n",
       "        vertical-align: middle;\n",
       "    }\n",
       "\n",
       "    .dataframe tbody tr th {\n",
       "        vertical-align: top;\n",
       "    }\n",
       "\n",
       "    .dataframe thead th {\n",
       "        text-align: right;\n",
       "    }\n",
       "</style>\n",
       "<table border=\"1\" class=\"dataframe\">\n",
       "  <thead>\n",
       "    <tr style=\"text-align: right;\">\n",
       "      <th></th>\n",
       "      <th>first_name</th>\n",
       "      <th>last_name</th>\n",
       "    </tr>\n",
       "  </thead>\n",
       "  <tbody>\n",
       "    <tr>\n",
       "      <th>0</th>\n",
       "      <td>Correy</td>\n",
       "      <td>Antunez</td>\n",
       "    </tr>\n",
       "    <tr>\n",
       "      <th>1</th>\n",
       "      <td>Welby</td>\n",
       "      <td>Zanazzi</td>\n",
       "    </tr>\n",
       "    <tr>\n",
       "      <th>2</th>\n",
       "      <td>Bailie</td>\n",
       "      <td>Keppel</td>\n",
       "    </tr>\n",
       "    <tr>\n",
       "      <th>3</th>\n",
       "      <td>Rayna</td>\n",
       "      <td>Josephs</td>\n",
       "    </tr>\n",
       "    <tr>\n",
       "      <th>4</th>\n",
       "      <td>Noelle</td>\n",
       "      <td>Sterrick</td>\n",
       "    </tr>\n",
       "    <tr>\n",
       "      <th>...</th>\n",
       "      <td>...</td>\n",
       "      <td>...</td>\n",
       "    </tr>\n",
       "    <tr>\n",
       "      <th>341</th>\n",
       "      <td>Angela</td>\n",
       "      <td>Aiken</td>\n",
       "    </tr>\n",
       "    <tr>\n",
       "      <th>342</th>\n",
       "      <td>Verena</td>\n",
       "      <td>Grimsdyke</td>\n",
       "    </tr>\n",
       "    <tr>\n",
       "      <th>343</th>\n",
       "      <td>Casandra</td>\n",
       "      <td>Old</td>\n",
       "    </tr>\n",
       "    <tr>\n",
       "      <th>344</th>\n",
       "      <td>Griff</td>\n",
       "      <td>Thame</td>\n",
       "    </tr>\n",
       "    <tr>\n",
       "      <th>345</th>\n",
       "      <td>Rainer</td>\n",
       "      <td>Durante</td>\n",
       "    </tr>\n",
       "  </tbody>\n",
       "</table>\n",
       "<p>346 rows × 2 columns</p>\n",
       "</div>"
      ],
      "text/plain": [
       "    first_name  last_name\n",
       "0       Correy    Antunez\n",
       "1        Welby    Zanazzi\n",
       "2       Bailie     Keppel\n",
       "3        Rayna    Josephs\n",
       "4       Noelle   Sterrick\n",
       "..         ...        ...\n",
       "341     Angela      Aiken\n",
       "342     Verena  Grimsdyke\n",
       "343   Casandra        Old\n",
       "344      Griff      Thame\n",
       "345     Rainer    Durante\n",
       "\n",
       "[346 rows x 2 columns]"
      ]
     },
     "execution_count": 15,
     "metadata": {},
     "output_type": "execute_result"
    }
   ],
   "source": [
    "df_fraud"
   ]
  },
  {
   "cell_type": "code",
   "execution_count": 33,
   "metadata": {
    "collapsed": true
   },
   "outputs": [
    {
     "data": {
      "text/plain": [
       "['first_name',\n",
       " 'last_name',\n",
       " 'gender',\n",
       " 'age',\n",
       " 'country',\n",
       " 'state',\n",
       " 'postal code',\n",
       " 'social security number',\n",
       " 'company',\n",
       " 'job title',\n",
       " 'salary',\n",
       " 'card number',\n",
       " 'card type',\n",
       " 'money_withdrawn_amount',\n",
       " 'money_withdrawn_reason',\n",
       " 'money_withdrawn_location',\n",
       " 'money_withdrawn_time',\n",
       " 'Suspicious Activity',\n",
       " 'No.of Transactions']"
      ]
     },
     "execution_count": 33,
     "metadata": {},
     "output_type": "execute_result"
    }
   ],
   "source": [
    "df.columns.tolist()"
   ]
  },
  {
   "cell_type": "code",
   "execution_count": 32,
   "metadata": {},
   "outputs": [
    {
     "data": {
      "text/plain": [
       "first_name                   object\n",
       "last_name                    object\n",
       "gender                       object\n",
       "age                           int64\n",
       "country                      object\n",
       "state                        object\n",
       "postal code                   int64\n",
       "social security number       object\n",
       "company                      object\n",
       "job title                    object\n",
       "salary                        int64\n",
       "card number                   int64\n",
       "card type                    object\n",
       "money_withdrawn_amount      float64\n",
       "money_withdrawn_reason       object\n",
       "money_withdrawn_location     object\n",
       "money_withdrawn_time         object\n",
       "Suspicious Activity            bool\n",
       "No.of Transactions            int64\n",
       "dtype: object"
      ]
     },
     "execution_count": 32,
     "metadata": {},
     "output_type": "execute_result"
    }
   ],
   "source": [
    "df.dtypes"
   ]
  },
  {
   "cell_type": "code",
   "execution_count": 31,
   "metadata": {},
   "outputs": [],
   "source": [
    "# df=df.drop(['Unnamed: 0','Unnamed: 0.1'], axis = 1) \n",
    "# df=df.drop(['Valid Transaction'], axis = 1)"
   ]
  },
  {
   "cell_type": "code",
   "execution_count": 38,
   "metadata": {},
   "outputs": [
    {
     "data": {
      "text/html": [
       "<div>\n",
       "<style scoped>\n",
       "    .dataframe tbody tr th:only-of-type {\n",
       "        vertical-align: middle;\n",
       "    }\n",
       "\n",
       "    .dataframe tbody tr th {\n",
       "        vertical-align: top;\n",
       "    }\n",
       "\n",
       "    .dataframe thead th {\n",
       "        text-align: right;\n",
       "    }\n",
       "</style>\n",
       "<table border=\"1\" class=\"dataframe\">\n",
       "  <thead>\n",
       "    <tr style=\"text-align: right;\">\n",
       "      <th></th>\n",
       "      <th>first_name</th>\n",
       "      <th>last_name</th>\n",
       "      <th>gender</th>\n",
       "      <th>age</th>\n",
       "      <th>country</th>\n",
       "      <th>state</th>\n",
       "      <th>postal code</th>\n",
       "      <th>social security number</th>\n",
       "      <th>company</th>\n",
       "      <th>job title</th>\n",
       "      <th>salary</th>\n",
       "      <th>card number</th>\n",
       "      <th>card type</th>\n",
       "      <th>money_withdrawn_amount</th>\n",
       "      <th>money_withdrawn_reason</th>\n",
       "      <th>money_withdrawn_location</th>\n",
       "      <th>money_withdrawn_time</th>\n",
       "      <th>Suspicious Activity</th>\n",
       "      <th>No.of Transactions</th>\n",
       "    </tr>\n",
       "  </thead>\n",
       "  <tbody>\n",
       "    <tr>\n",
       "      <th>0</th>\n",
       "      <td>Barrett</td>\n",
       "      <td>Dybell</td>\n",
       "      <td>Male</td>\n",
       "      <td>73</td>\n",
       "      <td>United States</td>\n",
       "      <td>Colorado</td>\n",
       "      <td>80935</td>\n",
       "      <td>655-91-9407</td>\n",
       "      <td>Fiveclub</td>\n",
       "      <td>Actuary</td>\n",
       "      <td>49224</td>\n",
       "      <td>3558725889734846</td>\n",
       "      <td>jcb</td>\n",
       "      <td>6823.85</td>\n",
       "      <td>Electronics</td>\n",
       "      <td>California</td>\n",
       "      <td>3:46 PM</td>\n",
       "      <td>False</td>\n",
       "      <td>1</td>\n",
       "    </tr>\n",
       "    <tr>\n",
       "      <th>1</th>\n",
       "      <td>Correy</td>\n",
       "      <td>Antunez</td>\n",
       "      <td>Male</td>\n",
       "      <td>65</td>\n",
       "      <td>United States</td>\n",
       "      <td>Texas</td>\n",
       "      <td>76115</td>\n",
       "      <td>591-95-0381</td>\n",
       "      <td>Youfeed</td>\n",
       "      <td>Marketing Manager</td>\n",
       "      <td>122588</td>\n",
       "      <td>3531226201855205</td>\n",
       "      <td>jcb</td>\n",
       "      <td>28609.13</td>\n",
       "      <td>Movies</td>\n",
       "      <td>New York</td>\n",
       "      <td>6:56 AM</td>\n",
       "      <td>False</td>\n",
       "      <td>3</td>\n",
       "    </tr>\n",
       "    <tr>\n",
       "      <th>2</th>\n",
       "      <td>Robbi</td>\n",
       "      <td>Amsden</td>\n",
       "      <td>Female</td>\n",
       "      <td>24</td>\n",
       "      <td>United States</td>\n",
       "      <td>Florida</td>\n",
       "      <td>34611</td>\n",
       "      <td>539-05-0912</td>\n",
       "      <td>Trilith</td>\n",
       "      <td>Operator</td>\n",
       "      <td>100195</td>\n",
       "      <td>3577207464865995</td>\n",
       "      <td>jcb</td>\n",
       "      <td>11985.45</td>\n",
       "      <td>Sports</td>\n",
       "      <td>Kansas</td>\n",
       "      <td>12:30 PM</td>\n",
       "      <td>False</td>\n",
       "      <td>3</td>\n",
       "    </tr>\n",
       "    <tr>\n",
       "      <th>3</th>\n",
       "      <td>Welby</td>\n",
       "      <td>Zanazzi</td>\n",
       "      <td>Male</td>\n",
       "      <td>61</td>\n",
       "      <td>United States</td>\n",
       "      <td>Texas</td>\n",
       "      <td>75353</td>\n",
       "      <td>151-75-0158</td>\n",
       "      <td>Avamba</td>\n",
       "      <td>Developer III</td>\n",
       "      <td>53624</td>\n",
       "      <td>633401356658267264</td>\n",
       "      <td>solo</td>\n",
       "      <td>1686.59</td>\n",
       "      <td>Tools</td>\n",
       "      <td>Kansas</td>\n",
       "      <td>12:17 AM</td>\n",
       "      <td>False</td>\n",
       "      <td>8</td>\n",
       "    </tr>\n",
       "    <tr>\n",
       "      <th>4</th>\n",
       "      <td>Bailie</td>\n",
       "      <td>Keppel</td>\n",
       "      <td>Male</td>\n",
       "      <td>52</td>\n",
       "      <td>United States</td>\n",
       "      <td>New Mexico</td>\n",
       "      <td>88006</td>\n",
       "      <td>667-83-6790</td>\n",
       "      <td>Zoombox</td>\n",
       "      <td>Quality Control Specialist</td>\n",
       "      <td>29958</td>\n",
       "      <td>3576156388252940</td>\n",
       "      <td>jcb</td>\n",
       "      <td>26964.59</td>\n",
       "      <td>Industrial</td>\n",
       "      <td>Texas</td>\n",
       "      <td>2:01 PM</td>\n",
       "      <td>True</td>\n",
       "      <td>2</td>\n",
       "    </tr>\n",
       "  </tbody>\n",
       "</table>\n",
       "</div>"
      ],
      "text/plain": [
       "  first_name last_name  gender  age        country       state  postal code  \\\n",
       "0    Barrett    Dybell    Male   73  United States    Colorado        80935   \n",
       "1     Correy   Antunez    Male   65  United States       Texas        76115   \n",
       "2      Robbi    Amsden  Female   24  United States     Florida        34611   \n",
       "3      Welby   Zanazzi    Male   61  United States       Texas        75353   \n",
       "4     Bailie    Keppel    Male   52  United States  New Mexico        88006   \n",
       "\n",
       "  social security number   company                   job title  salary  \\\n",
       "0            655-91-9407  Fiveclub                     Actuary   49224   \n",
       "1            591-95-0381   Youfeed           Marketing Manager  122588   \n",
       "2            539-05-0912   Trilith                    Operator  100195   \n",
       "3            151-75-0158    Avamba               Developer III   53624   \n",
       "4            667-83-6790   Zoombox  Quality Control Specialist   29958   \n",
       "\n",
       "          card number card type  money_withdrawn_amount  \\\n",
       "0    3558725889734846       jcb                 6823.85   \n",
       "1    3531226201855205       jcb                28609.13   \n",
       "2    3577207464865995       jcb                11985.45   \n",
       "3  633401356658267264      solo                 1686.59   \n",
       "4    3576156388252940       jcb                26964.59   \n",
       "\n",
       "  money_withdrawn_reason money_withdrawn_location money_withdrawn_time  \\\n",
       "0            Electronics               California              3:46 PM   \n",
       "1                 Movies                 New York              6:56 AM   \n",
       "2                 Sports                   Kansas             12:30 PM   \n",
       "3                  Tools                   Kansas             12:17 AM   \n",
       "4             Industrial                    Texas              2:01 PM   \n",
       "\n",
       "   Suspicious Activity  No.of Transactions  \n",
       "0                False                   1  \n",
       "1                False                   3  \n",
       "2                False                   3  \n",
       "3                False                   8  \n",
       "4                 True                   2  "
      ]
     },
     "execution_count": 38,
     "metadata": {},
     "output_type": "execute_result"
    }
   ],
   "source": [
    "df.head()"
   ]
  },
  {
   "cell_type": "code",
   "execution_count": 36,
   "metadata": {},
   "outputs": [],
   "source": [
    "dict_new={\n",
    "\"first_name\":[],\n",
    "\"last_name\":[],\n",
    "\"gender\":[],\n",
    "\"age\":[],\n",
    "\"country\":[],\n",
    "\"state\":[],\n",
    "\"postal code\":[],\n",
    "\"social security number\":[],\n",
    "\"company\":[],\n",
    "\"job title\":[],\n",
    "\"salary\":[],\n",
    "\"card number\":[],\n",
    "\"card type\":[],                    \n",
    "\"money_withdrawn_amount\":[],\n",
    "\"money_withdrawn_reason\":[],       \n",
    "\"money_withdrawn_location\":[],\n",
    "\"money_withdrawn_time\":[],\n",
    "\"Suspicious Activity\":[],\n",
    "\"No.of Transactions\":[]\n",
    "}"
   ]
  },
  {
   "cell_type": "markdown",
   "metadata": {},
   "source": [
    "add a row using query\n",
    "call runsql function\n",
    "if the rule satifies add the names to df_fraud\n"
   ]
  },
  {
   "cell_type": "markdown",
   "metadata": {},
   "source": [
    "# Insert a row into DB and check rules"
   ]
  },
  {
   "cell_type": "code",
   "execution_count": null,
   "metadata": {},
   "outputs": [],
   "source": [
    "# ('iron','man','Male',24,'United States','Colorado', 80935.0, '785-91-9407', 'Fiveclub', 'Actuary', 10224.0, 3558725889734886.0, 'jcb', 6823.85, 'Electronics', 'California', '3:46 PM', True, False, 3.0)"
   ]
  },
  {
   "cell_type": "code",
   "execution_count": 44,
   "metadata": {},
   "outputs": [],
   "source": [
    "string=\"insert into output values('0.0','iron','man','Male',24,'United States','Colorado', 80935.0, '785-91-9477', 'Fiveclub', 'Actuary', 10224.0, 3558725889734886.0, 'jcb', 6823.85, 'Electronics', 'California', '3:46 PM', 'True', 'False', 3.0)\""
   ]
  },
  {
   "cell_type": "code",
   "execution_count": 45,
   "metadata": {},
   "outputs": [],
   "source": [
    "conx = pyodbc.connect('DRIVER={SQL Server}; SERVER=DESKTOP-V8F09K2\\KRISHNASQL; Database=kk; UID=sa; PWD=pokemon;')\n",
    "query=string\n",
    "cursor = conx.cursor();\n",
    "cursor.execute(query);\n",
    "conx.commit()\n",
    " "
   ]
  },
  {
   "cell_type": "code",
   "execution_count": 62,
   "metadata": {},
   "outputs": [],
   "source": [
    "conx = pyodbc.connect('DRIVER={SQL Server}; SERVER=DESKTOP-V8F09K2\\KRISHNASQL; Database=kk; UID=sa; PWD=pokemon;')\n",
    "query=\"SELECT [first_name],[last_name],[social security number],[Suspicious Activity] FROM [kk].[dbo].[output]\"\n",
    "cursor = conx.cursor();\n",
    "cursor.execute(query);\n",
    "data = cursor.fetchall()\n",
    "q = pd.read_sql_query(query,conx)\n",
    "df2 = pd.DataFrame(q, columns=['first_name','last_name','social security number','Suspicious Activity'])\n",
    "conx.close()"
   ]
  },
  {
   "cell_type": "code",
   "execution_count": 64,
   "metadata": {},
   "outputs": [
    {
     "name": "stdout",
     "output_type": "stream",
     "text": [
      "True\n",
      "500\n"
     ]
    }
   ],
   "source": [
    "for i in range(1001):\n",
    "    if(df2['first_name'][i]==\"iron\"):\n",
    "       print(df2['Suspicious Activity'][i]==False)\n",
    "       print(i)"
   ]
  },
  {
   "cell_type": "code",
   "execution_count": 3,
   "metadata": {},
   "outputs": [
    {
     "name": "stdout",
     "output_type": "stream",
     "text": [
      "Line0: select first_name,last_name,MIN(gender) AS gender,MIN(age) AS age,MIN(country) AS country,MIN(state) AS state,MIN([postal code]) AS [postal code],MIN([social security number]) AS [social security number],MIN([company]) AS [company],MIN([job title]) AS [job title],MIN([salary]) AS [salary],MIN([card number]) AS [card number],MIN([card type]) AS [card type],SUM(money_withdrawn_amount) AS money_withdrawn_amount,MIN([money_withdrawn_reason]) AS [money_withdrawn_reason],MIN([money_withdrawn_location]) AS [money_withdrawn_location],MIN([Suspicious Activity]+0) AS [Suspicious Activity],MIN([No.of Transactions]) AS [No.of Transactions],MIN([money_withdrawn_date]) AS [money_withdrawn_date],MIN([money_withdrawn_date_only]) AS [money_withdrawn_date_only]FROM output2 GROUP BY first_name,last_name,money_withdrawn_date_only\n",
      "Line1: SELECT [first_name],[last_name],[social security number] FROM [kk].[dbo].[output3] WHERE ([money_withdrawn_amount])>=([salary]/2)\n",
      "Line2: SELECT [first_name],[last_name],[social security number] FROM [kk].[dbo].[output3] WHERE [Total amount transferred]>=([salary])\n",
      "Line3: select * from output3 where (([Time_only]>'01:00:01' and [Time_only]<'04:00:59')) or ([state]!=[money_withdrawn_location]) or (([money_withdrawn_amount])>=([salary]/2))\n"
     ]
    }
   ],
   "source": [
    "file1 = open('Rules.txt', 'r') \n",
    "Lines = file1.readlines() \n",
    "List=[]  \n",
    "count = 0\n",
    "# Strips the newline character \n",
    "for line in Lines: \n",
    "#     print(line.strip()) \n",
    "    print(\"Line{}: {}\".format(count, line.strip()))\n",
    "    print(0)\n",
    "    count=count+1\n",
    "    List.append(line.strip())"
   ]
  },
  {
   "cell_type": "code",
   "execution_count": 66,
   "metadata": {},
   "outputs": [],
   "source": [
    "def runsql(x):\n",
    "    global data,df2\n",
    "    conx = pyodbc.connect('DRIVER={SQL Server}; SERVER=DESKTOP-V8F09K2\\KRISHNASQL; Database=kk; UID=sa; PWD=pokemon;')\n",
    "    query=x\n",
    "    cursor = conx.cursor();\n",
    "    cursor.execute(query);\n",
    "    data = cursor.fetchall()\n",
    "    q = pd.read_sql_query(query,conx)\n",
    "    df2 = pd.DataFrame(q, columns=['first_name','last_name','social security number'])\n",
    "    conx.close()"
   ]
  },
  {
   "cell_type": "code",
   "execution_count": 67,
   "metadata": {},
   "outputs": [
    {
     "name": "stdout",
     "output_type": "stream",
     "text": [
      "  first_name last_name social security number\n",
      "0     Bailie    Keppel            667-83-6790\n",
      "1      Rayna   Josephs            248-61-5179\n",
      "2       Cull    Tabour            205-43-7993\n",
      "3     Noelle  Sterrick            294-48-6337\n",
      "4     Maximo  Switland            171-39-7066\n"
     ]
    }
   ],
   "source": [
    "for i in range(len(List)):\n",
    "    runsql(List[i])\n",
    "    print(df2.head())"
   ]
  },
  {
   "cell_type": "code",
   "execution_count": 68,
   "metadata": {},
   "outputs": [
    {
     "data": {
      "text/plain": [
       "340"
      ]
     },
     "execution_count": 68,
     "metadata": {},
     "output_type": "execute_result"
    }
   ],
   "source": [
    "len(df2)"
   ]
  },
  {
   "cell_type": "code",
   "execution_count": 75,
   "metadata": {},
   "outputs": [],
   "source": [
    "ct=len(df_fraud)\n",
    "for i in range(len(df2)):\n",
    "    if(((df2['first_name'][i] in df_fraud['first_name'].unique())==False) and ((df2['last_name'][i] in df_fraud['last_name'].unique())==False)):\n",
    "        df_fraud.loc[ct,'first_name']=df2['first_name'][i]\n",
    "        df_fraud.loc[ct,'last_name']=df2['last_name'][i]\n",
    "        ct=ct+1"
   ]
  },
  {
   "cell_type": "code",
   "execution_count": 77,
   "metadata": {},
   "outputs": [
    {
     "data": {
      "text/html": [
       "<div>\n",
       "<style scoped>\n",
       "    .dataframe tbody tr th:only-of-type {\n",
       "        vertical-align: middle;\n",
       "    }\n",
       "\n",
       "    .dataframe tbody tr th {\n",
       "        vertical-align: top;\n",
       "    }\n",
       "\n",
       "    .dataframe thead th {\n",
       "        text-align: right;\n",
       "    }\n",
       "</style>\n",
       "<table border=\"1\" class=\"dataframe\">\n",
       "  <thead>\n",
       "    <tr style=\"text-align: right;\">\n",
       "      <th></th>\n",
       "      <th>first_name</th>\n",
       "      <th>last_name</th>\n",
       "    </tr>\n",
       "  </thead>\n",
       "  <tbody>\n",
       "    <tr>\n",
       "      <th>335</th>\n",
       "      <td>Shadow</td>\n",
       "      <td>Stife</td>\n",
       "    </tr>\n",
       "    <tr>\n",
       "      <th>336</th>\n",
       "      <td>Angela</td>\n",
       "      <td>Aiken</td>\n",
       "    </tr>\n",
       "    <tr>\n",
       "      <th>337</th>\n",
       "      <td>Verena</td>\n",
       "      <td>Grimsdyke</td>\n",
       "    </tr>\n",
       "    <tr>\n",
       "      <th>338</th>\n",
       "      <td>Casandra</td>\n",
       "      <td>Old</td>\n",
       "    </tr>\n",
       "    <tr>\n",
       "      <th>339</th>\n",
       "      <td>iron</td>\n",
       "      <td>man</td>\n",
       "    </tr>\n",
       "  </tbody>\n",
       "</table>\n",
       "</div>"
      ],
      "text/plain": [
       "    first_name  last_name\n",
       "335     Shadow      Stife\n",
       "336     Angela      Aiken\n",
       "337     Verena  Grimsdyke\n",
       "338   Casandra        Old\n",
       "339       iron        man"
      ]
     },
     "execution_count": 77,
     "metadata": {},
     "output_type": "execute_result"
    }
   ],
   "source": [
    "df_fraud.tail()"
   ]
  },
  {
   "cell_type": "code",
   "execution_count": 79,
   "metadata": {},
   "outputs": [],
   "source": [
    "conx = pyodbc.connect('DRIVER={SQL Server}; SERVER=DESKTOP-V8F09K2\\KRISHNASQL; Database=kk; UID=sa; PWD=pokemon;')\n",
    "query=\"create table fraud_names(first_name varchar(50),last_name varchar(50))\"\n",
    "cursor = conx.cursor();\n",
    "cursor.execute(query);\n",
    "conx.commit()"
   ]
  },
  {
   "cell_type": "code",
   "execution_count": 16,
   "metadata": {},
   "outputs": [],
   "source": [
    "import urllib\n",
    "import sqlalchemy\n",
    "conn_str = (\n",
    "    r'Driver={SQL Server};'\n",
    "    r'Server=DESKTOP-V8F09K2\\KRISHNASQL;'\n",
    "    r'Database=kk;'\n",
    "    r'UID=sa;'\n",
    "    r'PWD=pokemon;'\n",
    ")\n",
    "quoted_conn_str = urllib.parse.quote_plus(conn_str)\n",
    "engine = sqlalchemy.create_engine('mssql+pyodbc:///?odbc_connect={}'.format(quoted_conn_str))\n",
    "cnxn = engine.connect()\n"
   ]
  },
  {
   "cell_type": "code",
   "execution_count": 8,
   "metadata": {},
   "outputs": [
    {
     "name": "stdout",
     "output_type": "stream",
     "text": [
      "[('output',), ('output2',), ('fraud_names',), ('output3',)]\n"
     ]
    }
   ],
   "source": [
    "rows = cnxn.execute(\"SELECT name FROM sys.tables\").fetchall()\n",
    "# df_fraud.to_sql('fraud_names', con=engine,if_exists='replace')\n",
    "print(rows)"
   ]
  },
  {
   "cell_type": "code",
   "execution_count": 17,
   "metadata": {},
   "outputs": [],
   "source": [
    "df_fraud.to_sql('fraud_names', con=engine,if_exists='replace')"
   ]
  },
  {
   "cell_type": "code",
   "execution_count": 11,
   "metadata": {},
   "outputs": [],
   "source": [
    "df.to_sql('output3', con=engine,if_exists='replace')"
   ]
  },
  {
   "cell_type": "code",
   "execution_count": 108,
   "metadata": {},
   "outputs": [
    {
     "name": "stdout",
     "output_type": "stream",
     "text": [
      "[(0, 'Bailie', 'Keppel'), (1, 'Rayna', 'Josephs'), (2, 'Cull', 'Tabour')]\n",
      "340\n"
     ]
    }
   ],
   "source": [
    "rows = cnxn.execute(\"SELECT * FROM fraud_names\").fetchall()\n",
    "print(rows[:3])\n",
    "print(len(rows))"
   ]
  },
  {
   "cell_type": "code",
   "execution_count": null,
   "metadata": {},
   "outputs": [],
   "source": []
  },
  {
   "cell_type": "code",
   "execution_count": null,
   "metadata": {},
   "outputs": [],
   "source": []
  },
  {
   "cell_type": "code",
   "execution_count": null,
   "metadata": {},
   "outputs": [],
   "source": []
  }
 ],
 "metadata": {
  "kernelspec": {
   "display_name": "Python 3",
   "language": "python",
   "name": "python3"
  },
  "language_info": {
   "codemirror_mode": {
    "name": "ipython",
    "version": 3
   },
   "file_extension": ".py",
   "mimetype": "text/x-python",
   "name": "python",
   "nbconvert_exporter": "python",
   "pygments_lexer": "ipython3",
   "version": "3.7.6"
  }
 },
 "nbformat": 4,
 "nbformat_minor": 4
}
