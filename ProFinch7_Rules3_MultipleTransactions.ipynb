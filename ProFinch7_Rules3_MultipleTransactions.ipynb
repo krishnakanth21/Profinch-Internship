{
 "cells": [
  {
   "cell_type": "code",
   "execution_count": 41,
   "metadata": {},
   "outputs": [],
   "source": [
    "import pyodbc\n",
    "import pandas as pd\n",
    "import numpy as np\n",
    "import os"
   ]
  },
  {
   "cell_type": "code",
   "execution_count": 54,
   "metadata": {},
   "outputs": [],
   "source": [
    "os.chdir('C:\\\\Users\\\\hp\\\\Desktop\\\\ProFinch')\n",
    "df=pd.DataFrame()\n",
    "df=pd.read_excel(\"CustomerInfo4.xlsx\")"
   ]
  },
  {
   "cell_type": "code",
   "execution_count": 55,
   "metadata": {},
   "outputs": [
    {
     "data": {
      "text/plain": [
       "Index(['Unnamed: 0', 'Unnamed: 0.1', 'first_name', 'last_name', 'gender',\n",
       "       'age', 'country', 'state', 'postal code', 'social security number',\n",
       "       'company', 'job title', 'salary', 'card number', 'card type',\n",
       "       'money_withdrawn_amount', 'money_withdrawn_reason',\n",
       "       'money_withdrawn_location', 'Suspicious Activity', 'No.of Transactions',\n",
       "       'money_withdrawn_date', 'money_withdrawn_date_only'],\n",
       "      dtype='object')"
      ]
     },
     "execution_count": 55,
     "metadata": {},
     "output_type": "execute_result"
    }
   ],
   "source": [
    "df.columns"
   ]
  },
  {
   "cell_type": "markdown",
   "metadata": {},
   "source": [
    "# Start model/file reading section"
   ]
  },
  {
   "cell_type": "code",
   "execution_count": 33,
   "metadata": {},
   "outputs": [],
   "source": [
    "def runsql(x):\n",
    "    global data,df2\n",
    "    conx = pyodbc.connect('DRIVER={SQL Server}; SERVER=DESKTOP-V8F09K2\\KRISHNASQL; Database=kk; UID=sa; PWD=pokemon;')\n",
    "    query=x\n",
    "    cursor = conx.cursor();\n",
    "    cursor.execute(query);\n",
    "    data = cursor.fetchall()\n",
    "    q = pd.read_sql_query(query,conx)\n",
    "    df2 = pd.DataFrame(q, columns=['first_name','last_name','social security number'])\n",
    "    conx.close()"
   ]
  },
  {
   "cell_type": "code",
   "execution_count": 31,
   "metadata": {},
   "outputs": [
    {
     "name": "stdout",
     "output_type": "stream",
     "text": [
      "Line0: SELECT first_name,last_name,SUM(money_withdrawn_amount) AS money_withdrawn_amount FROM output2 GROUP BY first_name,last_name,money_withdrawn_date_only\n",
      "Line1: SELECT [first_name],[last_name],[social security number] FROM [kk].[dbo].[output2] WHERE [No#of Transactions]*([money_withdrawn_amount])>=([salary])\n"
     ]
    }
   ],
   "source": [
    "file1 = open('Rules.txt', 'r') \n",
    "Lines = file1.readlines() \n",
    "List=[]  \n",
    "count = 0\n",
    "# Strips the newline character \n",
    "for line in Lines: \n",
    "#     print(line.strip()) \n",
    "    print(\"Line{}: {}\".format(count, line.strip()))\n",
    "    count=count+1\n",
    "    List.append(line.strip())"
   ]
  },
  {
   "cell_type": "code",
   "execution_count": 50,
   "metadata": {
    "collapsed": true
   },
   "outputs": [
    {
     "ename": "ProgrammingError",
     "evalue": "('42S22', \"[42S22] [Microsoft][ODBC SQL Server Driver][SQL Server]Invalid column name 'money_withdrawn_date_only'. (207) (SQLExecDirectW)\")",
     "output_type": "error",
     "traceback": [
      "\u001b[1;31m---------------------------------------------------------------------------\u001b[0m",
      "\u001b[1;31mProgrammingError\u001b[0m                          Traceback (most recent call last)",
      "\u001b[1;32m<ipython-input-50-c21eb9e60565>\u001b[0m in \u001b[0;36m<module>\u001b[1;34m\u001b[0m\n\u001b[0;32m      1\u001b[0m \u001b[1;32mfor\u001b[0m \u001b[0mi\u001b[0m \u001b[1;32min\u001b[0m \u001b[0mrange\u001b[0m\u001b[1;33m(\u001b[0m\u001b[0mlen\u001b[0m\u001b[1;33m(\u001b[0m\u001b[0mList\u001b[0m\u001b[1;33m)\u001b[0m\u001b[1;33m)\u001b[0m\u001b[1;33m:\u001b[0m\u001b[1;33m\u001b[0m\u001b[1;33m\u001b[0m\u001b[0m\n\u001b[1;32m----> 2\u001b[1;33m     \u001b[0mrunsql\u001b[0m\u001b[1;33m(\u001b[0m\u001b[0mList\u001b[0m\u001b[1;33m[\u001b[0m\u001b[0mi\u001b[0m\u001b[1;33m]\u001b[0m\u001b[1;33m)\u001b[0m\u001b[1;33m\u001b[0m\u001b[1;33m\u001b[0m\u001b[0m\n\u001b[0m\u001b[0;32m      3\u001b[0m     \u001b[0mprint\u001b[0m\u001b[1;33m(\u001b[0m\u001b[0mdf2\u001b[0m\u001b[1;33m.\u001b[0m\u001b[0mhead\u001b[0m\u001b[1;33m(\u001b[0m\u001b[1;33m)\u001b[0m\u001b[1;33m)\u001b[0m\u001b[1;33m\u001b[0m\u001b[1;33m\u001b[0m\u001b[0m\n",
      "\u001b[1;32m<ipython-input-33-6c23f61abe92>\u001b[0m in \u001b[0;36mrunsql\u001b[1;34m(x)\u001b[0m\n\u001b[0;32m      4\u001b[0m     \u001b[0mquery\u001b[0m\u001b[1;33m=\u001b[0m\u001b[0mx\u001b[0m\u001b[1;33m\u001b[0m\u001b[1;33m\u001b[0m\u001b[0m\n\u001b[0;32m      5\u001b[0m     \u001b[0mcursor\u001b[0m \u001b[1;33m=\u001b[0m \u001b[0mconx\u001b[0m\u001b[1;33m.\u001b[0m\u001b[0mcursor\u001b[0m\u001b[1;33m(\u001b[0m\u001b[1;33m)\u001b[0m\u001b[1;33m;\u001b[0m\u001b[1;33m\u001b[0m\u001b[1;33m\u001b[0m\u001b[0m\n\u001b[1;32m----> 6\u001b[1;33m     \u001b[0mcursor\u001b[0m\u001b[1;33m.\u001b[0m\u001b[0mexecute\u001b[0m\u001b[1;33m(\u001b[0m\u001b[0mquery\u001b[0m\u001b[1;33m)\u001b[0m\u001b[1;33m;\u001b[0m\u001b[1;33m\u001b[0m\u001b[1;33m\u001b[0m\u001b[0m\n\u001b[0m\u001b[0;32m      7\u001b[0m     \u001b[0mdata\u001b[0m \u001b[1;33m=\u001b[0m \u001b[0mcursor\u001b[0m\u001b[1;33m.\u001b[0m\u001b[0mfetchall\u001b[0m\u001b[1;33m(\u001b[0m\u001b[1;33m)\u001b[0m\u001b[1;33m\u001b[0m\u001b[1;33m\u001b[0m\u001b[0m\n\u001b[0;32m      8\u001b[0m     \u001b[0mq\u001b[0m \u001b[1;33m=\u001b[0m \u001b[0mpd\u001b[0m\u001b[1;33m.\u001b[0m\u001b[0mread_sql_query\u001b[0m\u001b[1;33m(\u001b[0m\u001b[0mquery\u001b[0m\u001b[1;33m,\u001b[0m\u001b[0mconx\u001b[0m\u001b[1;33m)\u001b[0m\u001b[1;33m\u001b[0m\u001b[1;33m\u001b[0m\u001b[0m\n",
      "\u001b[1;31mProgrammingError\u001b[0m: ('42S22', \"[42S22] [Microsoft][ODBC SQL Server Driver][SQL Server]Invalid column name 'money_withdrawn_date_only'. (207) (SQLExecDirectW)\")"
     ]
    }
   ],
   "source": [
    "for i in range(len(List)):\n",
    "    runsql(List[i])\n",
    "    print(df2.head())"
   ]
  },
  {
   "cell_type": "markdown",
   "metadata": {},
   "source": [
    "# End Section"
   ]
  },
  {
   "cell_type": "code",
   "execution_count": null,
   "metadata": {},
   "outputs": [],
   "source": []
  },
  {
   "cell_type": "markdown",
   "metadata": {},
   "source": [
    "# Adding people with mutiple transactions to invalidate rule1 "
   ]
  },
  {
   "cell_type": "code",
   "execution_count": 27,
   "metadata": {},
   "outputs": [
    {
     "data": {
      "text/plain": [
       "'20120618 10:34:09'"
      ]
     },
     "execution_count": 27,
     "metadata": {},
     "output_type": "execute_result"
    }
   ],
   "source": [
    "'20120618 10:34:09'"
   ]
  },
  {
   "cell_type": "code",
   "execution_count": 15,
   "metadata": {},
   "outputs": [],
   "source": [
    "string1=\"insert into output2 values('0.0','0.0','spider','tobey','Male',24,'United States','Colorado', 80935.0, '785-91-9407', 'Fiveclub', 'Actuary', 12000.0, 3558725889734886.0, 'jcb', 5000.0, 'Electronics', 'California', 'False',1.0,'20180618 10:34:09','06/18/20')\""
   ]
  },
  {
   "cell_type": "code",
   "execution_count": 16,
   "metadata": {},
   "outputs": [],
   "source": [
    "string2=\"insert into output2 values('0.0','0.0','spider','tobey','Male',24,'United States','Colorado', 80935.0, '785-91-9407', 'Fiveclub', 'Actuary', 12000.0, 3558725889734886.0, 'jcb', 5000.0, 'Electronics', 'California', 'False',1.0,'20180618 10:40:00','06/18/20')\""
   ]
  },
  {
   "cell_type": "code",
   "execution_count": 17,
   "metadata": {},
   "outputs": [],
   "source": [
    "string3=\"insert into output2 values('0.0','0.0','spider','tobey','Male',24,'United States','Colorado', 80935.0, '785-91-9407', 'Fiveclub', 'Actuary', 12000.0, 3558725889734886.0, 'jcb', 5000.0, 'Electronics', 'California', 'False',1.0,'20180618 10:45:00','06/18/20')\""
   ]
  },
  {
   "cell_type": "code",
   "execution_count": 18,
   "metadata": {},
   "outputs": [],
   "source": [
    "string4=\"insert into output2 values('0.0','0.0','spider','andrew','Male',24,'United States','Colorado', 80935.0, '785-91-9407', 'Fiveclub', 'Actuary', 12000.0, 3558725889734886.0, 'jcb', 5000.0, 'Electronics', 'California', 'False',1.0,'20190618 10:40:00','06/18/19')\""
   ]
  },
  {
   "cell_type": "code",
   "execution_count": 19,
   "metadata": {},
   "outputs": [],
   "source": [
    "string5=\"insert into output2 values('0.0','0.0','spider','andrew','Male',24,'United States','Colorado', 80935.0, '785-91-9407', 'Fiveclub', 'Actuary', 12000.0, 3558725889734886.0, 'jcb', 5000.0, 'Electronics', 'California', 'False',1.0,'20190618 10:55:00','06/18/19')\""
   ]
  },
  {
   "cell_type": "code",
   "execution_count": null,
   "metadata": {},
   "outputs": [],
   "source": []
  },
  {
   "cell_type": "code",
   "execution_count": 37,
   "metadata": {},
   "outputs": [],
   "source": [
    "# string_del=\"delete from output2 where first_name='spider'\""
   ]
  },
  {
   "cell_type": "code",
   "execution_count": 24,
   "metadata": {},
   "outputs": [],
   "source": [
    "conx = pyodbc.connect('DRIVER={SQL Server}; SERVER=DESKTOP-V8F09K2\\KRISHNASQL; Database=kk; UID=sa; PWD=pokemon;')\n",
    "query=string5\n",
    "cursor = conx.cursor();\n",
    "cursor.execute(query);\n",
    "conx.commit();\n",
    "\n"
   ]
  },
  {
   "cell_type": "code",
   "execution_count": null,
   "metadata": {},
   "outputs": [],
   "source": []
  },
  {
   "cell_type": "code",
   "execution_count": 25,
   "metadata": {},
   "outputs": [],
   "source": [
    "conx = pyodbc.connect('DRIVER={SQL Server}; SERVER=DESKTOP-V8F09K2\\KRISHNASQL; Database=kk; UID=sa; PWD=pokemon;')\n",
    "query=\"SELECT * FROM [kk].[dbo].[output2]\"\n",
    "cursor = conx.cursor();\n",
    "cursor.execute(query);\n",
    "data = cursor.fetchall()\n",
    "q = pd.read_sql_query(query,conx)\n",
    "df2 = pd.DataFrame(q, columns=['first_name','last_name','social security number','Suspicious Activity','money_withdrawn_date','money_withdrawn_amount'])\n",
    "conx.close()"
   ]
  },
  {
   "cell_type": "code",
   "execution_count": 26,
   "metadata": {},
   "outputs": [
    {
     "data": {
      "text/plain": [
       "1005"
      ]
     },
     "execution_count": 26,
     "metadata": {},
     "output_type": "execute_result"
    }
   ],
   "source": [
    "len(df2)"
   ]
  },
  {
   "cell_type": "code",
   "execution_count": 54,
   "metadata": {},
   "outputs": [
    {
     "name": "stdout",
     "output_type": "stream",
     "text": [
      "2012-06-18 10:34:09\n",
      "2012-06-18 10:34:09\n",
      "2012-06-18 10:34:09\n"
     ]
    },
    {
     "data": {
      "text/plain": [
       "pandas._libs.tslibs.timestamps.Timestamp"
      ]
     },
     "execution_count": 54,
     "metadata": {},
     "output_type": "execute_result"
    }
   ],
   "source": [
    "for i in range(1001):\n",
    "    if(df2['first_name'][i]==\"spider\"):\n",
    "        print(df2['money_withdrawn_date'][i])\n",
    "type(y)        "
   ]
  },
  {
   "cell_type": "code",
   "execution_count": 73,
   "metadata": {},
   "outputs": [
    {
     "data": {
      "text/plain": [
       "6823.85"
      ]
     },
     "execution_count": 73,
     "metadata": {},
     "output_type": "execute_result"
    }
   ],
   "source": [
    "df2['money_withdrawn_amount'][0]"
   ]
  },
  {
   "cell_type": "code",
   "execution_count": 58,
   "metadata": {},
   "outputs": [],
   "source": [
    "duplicateRowsDF = df2[df2.duplicated(['first_name','last_name','money_withdrawn_date'],keep=False)]"
   ]
  },
  {
   "cell_type": "code",
   "execution_count": 59,
   "metadata": {},
   "outputs": [
    {
     "data": {
      "text/html": [
       "<div>\n",
       "<style scoped>\n",
       "    .dataframe tbody tr th:only-of-type {\n",
       "        vertical-align: middle;\n",
       "    }\n",
       "\n",
       "    .dataframe tbody tr th {\n",
       "        vertical-align: top;\n",
       "    }\n",
       "\n",
       "    .dataframe thead th {\n",
       "        text-align: right;\n",
       "    }\n",
       "</style>\n",
       "<table border=\"1\" class=\"dataframe\">\n",
       "  <thead>\n",
       "    <tr style=\"text-align: right;\">\n",
       "      <th></th>\n",
       "      <th>first_name</th>\n",
       "      <th>last_name</th>\n",
       "      <th>social security number</th>\n",
       "      <th>Suspicious Activity</th>\n",
       "      <th>money_withdrawn_date</th>\n",
       "      <th>money_withdrawn_amount</th>\n",
       "    </tr>\n",
       "  </thead>\n",
       "  <tbody>\n",
       "    <tr>\n",
       "      <th>543</th>\n",
       "      <td>spider</td>\n",
       "      <td>tobey</td>\n",
       "      <td>785-91-9407</td>\n",
       "      <td>False</td>\n",
       "      <td>2012-06-18 10:34:09</td>\n",
       "      <td>5000.0</td>\n",
       "    </tr>\n",
       "    <tr>\n",
       "      <th>544</th>\n",
       "      <td>spider</td>\n",
       "      <td>tobey</td>\n",
       "      <td>785-91-9407</td>\n",
       "      <td>False</td>\n",
       "      <td>2012-06-18 10:34:09</td>\n",
       "      <td>5000.0</td>\n",
       "    </tr>\n",
       "    <tr>\n",
       "      <th>545</th>\n",
       "      <td>spider</td>\n",
       "      <td>tobey</td>\n",
       "      <td>785-91-9407</td>\n",
       "      <td>False</td>\n",
       "      <td>2012-06-18 10:34:09</td>\n",
       "      <td>5000.0</td>\n",
       "    </tr>\n",
       "  </tbody>\n",
       "</table>\n",
       "</div>"
      ],
      "text/plain": [
       "    first_name last_name social security number  Suspicious Activity  \\\n",
       "543     spider     tobey            785-91-9407                False   \n",
       "544     spider     tobey            785-91-9407                False   \n",
       "545     spider     tobey            785-91-9407                False   \n",
       "\n",
       "    money_withdrawn_date  money_withdrawn_amount  \n",
       "543  2012-06-18 10:34:09                  5000.0  \n",
       "544  2012-06-18 10:34:09                  5000.0  \n",
       "545  2012-06-18 10:34:09                  5000.0  "
      ]
     },
     "execution_count": 59,
     "metadata": {},
     "output_type": "execute_result"
    }
   ],
   "source": [
    "duplicateRowsDF"
   ]
  },
  {
   "cell_type": "code",
   "execution_count": 76,
   "metadata": {},
   "outputs": [],
   "source": [
    "duplicateRowsDF=duplicateRowsDF.reset_index()"
   ]
  },
  {
   "cell_type": "code",
   "execution_count": 78,
   "metadata": {},
   "outputs": [
    {
     "name": "stdout",
     "output_type": "stream",
     "text": [
      "15000.0\n"
     ]
    }
   ],
   "source": [
    "money=0\n",
    "for i in range(len(duplicateRowsDF)):\n",
    "    money=money+duplicateRowsDF['money_withdrawn_amount'][i]\n",
    "print(money)    "
   ]
  },
  {
   "cell_type": "markdown",
   "metadata": {},
   "source": [
    "# Trying to get duplicates from db directly"
   ]
  },
  {
   "cell_type": "code",
   "execution_count": 36,
   "metadata": {},
   "outputs": [],
   "source": [
    "string=\"select first_name,last_name,SUM(money_withdrawn_amount) AS money_withdrawn_amount FROM output2 GROUP BY first_name,last_name,money_withdrawn_date_only\" "
   ]
  },
  {
   "cell_type": "code",
   "execution_count": 51,
   "metadata": {},
   "outputs": [],
   "source": [
    "conx = pyodbc.connect('DRIVER={SQL Server}; SERVER=DESKTOP-V8F09K2\\KRISHNASQL; Database=kk; UID=sa; PWD=pokemon;')\n",
    "query=\"select * from output2\"\n",
    "cursor = conx.cursor();\n",
    "cursor.execute(query);\n",
    "data = cursor.fetchall()\n",
    "q = pd.read_sql_query(query,conx)\n",
    "df2 = pd.DataFrame(q, columns=df.columns)\n",
    "conx.close()"
   ]
  },
  {
   "cell_type": "code",
   "execution_count": 53,
   "metadata": {},
   "outputs": [
    {
     "data": {
      "text/plain": [
       "[(0, 'Aaron', 'Skirrow', 27666.09)]"
      ]
     },
     "execution_count": 53,
     "metadata": {},
     "output_type": "execute_result"
    }
   ],
   "source": [
    "data[:1]"
   ]
  },
  {
   "cell_type": "code",
   "execution_count": 52,
   "metadata": {},
   "outputs": [
    {
     "data": {
      "text/plain": [
       "1002"
      ]
     },
     "execution_count": 52,
     "metadata": {},
     "output_type": "execute_result"
    }
   ],
   "source": [
    "len(df2)"
   ]
  },
  {
   "cell_type": "code",
   "execution_count": 39,
   "metadata": {
    "collapsed": true
   },
   "outputs": [
    {
     "data": {
      "text/html": [
       "<div>\n",
       "<style scoped>\n",
       "    .dataframe tbody tr th:only-of-type {\n",
       "        vertical-align: middle;\n",
       "    }\n",
       "\n",
       "    .dataframe tbody tr th {\n",
       "        vertical-align: top;\n",
       "    }\n",
       "\n",
       "    .dataframe thead th {\n",
       "        text-align: right;\n",
       "    }\n",
       "</style>\n",
       "<table border=\"1\" class=\"dataframe\">\n",
       "  <thead>\n",
       "    <tr style=\"text-align: right;\">\n",
       "      <th></th>\n",
       "      <th>first_name</th>\n",
       "      <th>last_name</th>\n",
       "      <th>money_withdrawn_amount</th>\n",
       "    </tr>\n",
       "  </thead>\n",
       "  <tbody>\n",
       "    <tr>\n",
       "      <th>0</th>\n",
       "      <td>Aaron</td>\n",
       "      <td>Skirrow</td>\n",
       "      <td>27666.09</td>\n",
       "    </tr>\n",
       "    <tr>\n",
       "      <th>1</th>\n",
       "      <td>Abbe</td>\n",
       "      <td>Kauscher</td>\n",
       "      <td>21781.18</td>\n",
       "    </tr>\n",
       "    <tr>\n",
       "      <th>2</th>\n",
       "      <td>Abram</td>\n",
       "      <td>Vinton</td>\n",
       "      <td>7907.31</td>\n",
       "    </tr>\n",
       "    <tr>\n",
       "      <th>3</th>\n",
       "      <td>Adelheid</td>\n",
       "      <td>Gainforth</td>\n",
       "      <td>7428.40</td>\n",
       "    </tr>\n",
       "    <tr>\n",
       "      <th>4</th>\n",
       "      <td>Adelheid</td>\n",
       "      <td>Sackur</td>\n",
       "      <td>6168.47</td>\n",
       "    </tr>\n",
       "    <tr>\n",
       "      <th>...</th>\n",
       "      <td>...</td>\n",
       "      <td>...</td>\n",
       "      <td>...</td>\n",
       "    </tr>\n",
       "    <tr>\n",
       "      <th>997</th>\n",
       "      <td>Zaccaria</td>\n",
       "      <td>Thow</td>\n",
       "      <td>14293.09</td>\n",
       "    </tr>\n",
       "    <tr>\n",
       "      <th>998</th>\n",
       "      <td>Zak</td>\n",
       "      <td>Shimon</td>\n",
       "      <td>7433.32</td>\n",
       "    </tr>\n",
       "    <tr>\n",
       "      <th>999</th>\n",
       "      <td>Zebedee</td>\n",
       "      <td>Hartup</td>\n",
       "      <td>18727.14</td>\n",
       "    </tr>\n",
       "    <tr>\n",
       "      <th>1000</th>\n",
       "      <td>Zenia</td>\n",
       "      <td>Patience</td>\n",
       "      <td>15167.04</td>\n",
       "    </tr>\n",
       "    <tr>\n",
       "      <th>1001</th>\n",
       "      <td>Zorah</td>\n",
       "      <td>Pill</td>\n",
       "      <td>28884.40</td>\n",
       "    </tr>\n",
       "  </tbody>\n",
       "</table>\n",
       "<p>1002 rows × 3 columns</p>\n",
       "</div>"
      ],
      "text/plain": [
       "     first_name  last_name  money_withdrawn_amount\n",
       "0         Aaron    Skirrow                27666.09\n",
       "1          Abbe   Kauscher                21781.18\n",
       "2         Abram     Vinton                 7907.31\n",
       "3      Adelheid  Gainforth                 7428.40\n",
       "4      Adelheid     Sackur                 6168.47\n",
       "...         ...        ...                     ...\n",
       "997    Zaccaria       Thow                14293.09\n",
       "998         Zak     Shimon                 7433.32\n",
       "999     Zebedee     Hartup                18727.14\n",
       "1000      Zenia   Patience                15167.04\n",
       "1001      Zorah       Pill                28884.40\n",
       "\n",
       "[1002 rows x 3 columns]"
      ]
     },
     "execution_count": 39,
     "metadata": {},
     "output_type": "execute_result"
    }
   ],
   "source": [
    "df2"
   ]
  },
  {
   "cell_type": "markdown",
   "metadata": {},
   "source": [
    "# Replacing table with updated table"
   ]
  },
  {
   "cell_type": "code",
   "execution_count": 44,
   "metadata": {},
   "outputs": [],
   "source": [
    "import urllib\n",
    "import sqlalchemy\n",
    "conn_str = (\n",
    "    r'Driver={SQL Server};'\n",
    "    r'Server=DESKTOP-V8F09K2\\KRISHNASQL;'\n",
    "    r'Database=kk;'\n",
    "    r'UID=sa;'\n",
    "    r'PWD=pokemon;'\n",
    ")\n",
    "quoted_conn_str = urllib.parse.quote_plus(conn_str)\n",
    "engine = sqlalchemy.create_engine('mssql+pyodbc:///?odbc_connect={}'.format(quoted_conn_str))\n",
    "cnxn = engine.connect()"
   ]
  },
  {
   "cell_type": "code",
   "execution_count": 45,
   "metadata": {},
   "outputs": [
    {
     "name": "stdout",
     "output_type": "stream",
     "text": [
      "[('output',), ('fraud_names',), ('output2',)]\n"
     ]
    }
   ],
   "source": [
    "rows = cnxn.execute(\"SELECT name FROM sys.tables\").fetchall()\n",
    "print(rows)"
   ]
  },
  {
   "cell_type": "code",
   "execution_count": 46,
   "metadata": {},
   "outputs": [],
   "source": [
    "df2.to_sql('output2', con=engine,if_exists='replace')"
   ]
  },
  {
   "cell_type": "markdown",
   "metadata": {},
   "source": [
    "# End section"
   ]
  },
  {
   "cell_type": "code",
   "execution_count": 30,
   "metadata": {},
   "outputs": [
    {
     "name": "stdout",
     "output_type": "stream",
     "text": [
      "10000.0\n",
      "15000.0\n"
     ]
    }
   ],
   "source": [
    "for i in range(len(df2)):\n",
    "    if(df2['first_name'][i]==\"spider\"):\n",
    "        print(df2['money_withdrawn_amount'][i])\n",
    "    "
   ]
  },
  {
   "cell_type": "code",
   "execution_count": null,
   "metadata": {},
   "outputs": [],
   "source": []
  },
  {
   "cell_type": "code",
   "execution_count": null,
   "metadata": {},
   "outputs": [],
   "source": []
  },
  {
   "cell_type": "code",
   "execution_count": null,
   "metadata": {},
   "outputs": [],
   "source": []
  }
 ],
 "metadata": {
  "kernelspec": {
   "display_name": "Python 3",
   "language": "python",
   "name": "python3"
  },
  "language_info": {
   "codemirror_mode": {
    "name": "ipython",
    "version": 3
   },
   "file_extension": ".py",
   "mimetype": "text/x-python",
   "name": "python",
   "nbconvert_exporter": "python",
   "pygments_lexer": "ipython3",
   "version": "3.7.6"
  }
 },
 "nbformat": 4,
 "nbformat_minor": 4
}
